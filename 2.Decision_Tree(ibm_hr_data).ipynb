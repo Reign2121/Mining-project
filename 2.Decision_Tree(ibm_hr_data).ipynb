{
  "nbformat": 4,
  "nbformat_minor": 0,
  "metadata": {
    "colab": {
      "provenance": []
    },
    "kernelspec": {
      "name": "python3",
      "display_name": "Python 3"
    },
    "language_info": {
      "name": "python"
    }
  },
  "cells": [
    {
      "cell_type": "code",
      "execution_count": 1,
      "metadata": {
        "id": "vD0Z-TI25uOe"
      },
      "outputs": [],
      "source": [
        "import numpy as np\n",
        "import pandas as pd\n",
        "import matplotlib.pyplot as plt\n",
        "import seaborn as sns"
      ]
    },
    {
      "cell_type": "code",
      "source": [
        "from google.colab import drive\n",
        "drive.mount('/content/drive')"
      ],
      "metadata": {
        "colab": {
          "base_uri": "https://localhost:8080/"
        },
        "id": "D06UNrcz5xT3",
        "outputId": "52e2f3e5-3cfd-4f7d-980c-45b9b8f848ae"
      },
      "execution_count": 2,
      "outputs": [
        {
          "output_type": "stream",
          "name": "stdout",
          "text": [
            "Mounted at /content/drive\n"
          ]
        }
      ]
    },
    {
      "cell_type": "code",
      "source": [
        "hr = pd.read_csv(\"/content/drive/MyDrive/Colab Notebooks/Data/WA_Fn-UseC_-HR-Employee-Attrition 2.csv\")\n",
        "\n",
        "#데이터 검사\n",
        "pd.options.display.max_columns = None\n",
        "hr.head()"
      ],
      "metadata": {
        "colab": {
          "base_uri": "https://localhost:8080/",
          "height": 357
        },
        "id": "CvQd_iXZ50NH",
        "outputId": "483ed117-9310-4ec6-f6c3-4021286adb95"
      },
      "execution_count": 3,
      "outputs": [
        {
          "output_type": "execute_result",
          "data": {
            "text/plain": [
              "   Age Attrition     BusinessTravel  DailyRate              Department  \\\n",
              "0   41       Yes      Travel_Rarely       1102                   Sales   \n",
              "1   49        No  Travel_Frequently        279  Research & Development   \n",
              "2   37       Yes      Travel_Rarely       1373  Research & Development   \n",
              "3   33        No  Travel_Frequently       1392  Research & Development   \n",
              "4   27        No      Travel_Rarely        591  Research & Development   \n",
              "\n",
              "   DistanceFromHome  Education EducationField  EmployeeCount  EmployeeNumber  \\\n",
              "0                 1          2  Life Sciences              1               1   \n",
              "1                 8          1  Life Sciences              1               2   \n",
              "2                 2          2          Other              1               4   \n",
              "3                 3          4  Life Sciences              1               5   \n",
              "4                 2          1        Medical              1               7   \n",
              "\n",
              "   EnvironmentSatisfaction  Gender  HourlyRate  JobInvolvement  JobLevel  \\\n",
              "0                        2  Female          94               3         2   \n",
              "1                        3    Male          61               2         2   \n",
              "2                        4    Male          92               2         1   \n",
              "3                        4  Female          56               3         1   \n",
              "4                        1    Male          40               3         1   \n",
              "\n",
              "                 JobRole  JobSatisfaction MaritalStatus  MonthlyIncome  \\\n",
              "0        Sales Executive                4        Single           5993   \n",
              "1     Research Scientist                2       Married           5130   \n",
              "2  Laboratory Technician                3        Single           2090   \n",
              "3     Research Scientist                3       Married           2909   \n",
              "4  Laboratory Technician                2       Married           3468   \n",
              "\n",
              "   MonthlyRate  NumCompaniesWorked Over18 OverTime  PercentSalaryHike  \\\n",
              "0        19479                   8      Y      Yes                 11   \n",
              "1        24907                   1      Y       No                 23   \n",
              "2         2396                   6      Y      Yes                 15   \n",
              "3        23159                   1      Y      Yes                 11   \n",
              "4        16632                   9      Y       No                 12   \n",
              "\n",
              "   PerformanceRating  RelationshipSatisfaction  StandardHours  \\\n",
              "0                  3                         1             80   \n",
              "1                  4                         4             80   \n",
              "2                  3                         2             80   \n",
              "3                  3                         3             80   \n",
              "4                  3                         4             80   \n",
              "\n",
              "   StockOptionLevel  TotalWorkingYears  TrainingTimesLastYear  \\\n",
              "0                 0                  8                      0   \n",
              "1                 1                 10                      3   \n",
              "2                 0                  7                      3   \n",
              "3                 0                  8                      3   \n",
              "4                 1                  6                      3   \n",
              "\n",
              "   WorkLifeBalance  YearsAtCompany  YearsInCurrentRole  \\\n",
              "0                1               6                   4   \n",
              "1                3              10                   7   \n",
              "2                3               0                   0   \n",
              "3                3               8                   7   \n",
              "4                3               2                   2   \n",
              "\n",
              "   YearsSinceLastPromotion  YearsWithCurrManager  \n",
              "0                        0                     5  \n",
              "1                        1                     7  \n",
              "2                        0                     0  \n",
              "3                        3                     0  \n",
              "4                        2                     2  "
            ],
            "text/html": [
              "\n",
              "  <div id=\"df-fc2b92fd-328c-412d-8042-a0dd24fbcba8\">\n",
              "    <div class=\"colab-df-container\">\n",
              "      <div>\n",
              "<style scoped>\n",
              "    .dataframe tbody tr th:only-of-type {\n",
              "        vertical-align: middle;\n",
              "    }\n",
              "\n",
              "    .dataframe tbody tr th {\n",
              "        vertical-align: top;\n",
              "    }\n",
              "\n",
              "    .dataframe thead th {\n",
              "        text-align: right;\n",
              "    }\n",
              "</style>\n",
              "<table border=\"1\" class=\"dataframe\">\n",
              "  <thead>\n",
              "    <tr style=\"text-align: right;\">\n",
              "      <th></th>\n",
              "      <th>Age</th>\n",
              "      <th>Attrition</th>\n",
              "      <th>BusinessTravel</th>\n",
              "      <th>DailyRate</th>\n",
              "      <th>Department</th>\n",
              "      <th>DistanceFromHome</th>\n",
              "      <th>Education</th>\n",
              "      <th>EducationField</th>\n",
              "      <th>EmployeeCount</th>\n",
              "      <th>EmployeeNumber</th>\n",
              "      <th>EnvironmentSatisfaction</th>\n",
              "      <th>Gender</th>\n",
              "      <th>HourlyRate</th>\n",
              "      <th>JobInvolvement</th>\n",
              "      <th>JobLevel</th>\n",
              "      <th>JobRole</th>\n",
              "      <th>JobSatisfaction</th>\n",
              "      <th>MaritalStatus</th>\n",
              "      <th>MonthlyIncome</th>\n",
              "      <th>MonthlyRate</th>\n",
              "      <th>NumCompaniesWorked</th>\n",
              "      <th>Over18</th>\n",
              "      <th>OverTime</th>\n",
              "      <th>PercentSalaryHike</th>\n",
              "      <th>PerformanceRating</th>\n",
              "      <th>RelationshipSatisfaction</th>\n",
              "      <th>StandardHours</th>\n",
              "      <th>StockOptionLevel</th>\n",
              "      <th>TotalWorkingYears</th>\n",
              "      <th>TrainingTimesLastYear</th>\n",
              "      <th>WorkLifeBalance</th>\n",
              "      <th>YearsAtCompany</th>\n",
              "      <th>YearsInCurrentRole</th>\n",
              "      <th>YearsSinceLastPromotion</th>\n",
              "      <th>YearsWithCurrManager</th>\n",
              "    </tr>\n",
              "  </thead>\n",
              "  <tbody>\n",
              "    <tr>\n",
              "      <th>0</th>\n",
              "      <td>41</td>\n",
              "      <td>Yes</td>\n",
              "      <td>Travel_Rarely</td>\n",
              "      <td>1102</td>\n",
              "      <td>Sales</td>\n",
              "      <td>1</td>\n",
              "      <td>2</td>\n",
              "      <td>Life Sciences</td>\n",
              "      <td>1</td>\n",
              "      <td>1</td>\n",
              "      <td>2</td>\n",
              "      <td>Female</td>\n",
              "      <td>94</td>\n",
              "      <td>3</td>\n",
              "      <td>2</td>\n",
              "      <td>Sales Executive</td>\n",
              "      <td>4</td>\n",
              "      <td>Single</td>\n",
              "      <td>5993</td>\n",
              "      <td>19479</td>\n",
              "      <td>8</td>\n",
              "      <td>Y</td>\n",
              "      <td>Yes</td>\n",
              "      <td>11</td>\n",
              "      <td>3</td>\n",
              "      <td>1</td>\n",
              "      <td>80</td>\n",
              "      <td>0</td>\n",
              "      <td>8</td>\n",
              "      <td>0</td>\n",
              "      <td>1</td>\n",
              "      <td>6</td>\n",
              "      <td>4</td>\n",
              "      <td>0</td>\n",
              "      <td>5</td>\n",
              "    </tr>\n",
              "    <tr>\n",
              "      <th>1</th>\n",
              "      <td>49</td>\n",
              "      <td>No</td>\n",
              "      <td>Travel_Frequently</td>\n",
              "      <td>279</td>\n",
              "      <td>Research &amp; Development</td>\n",
              "      <td>8</td>\n",
              "      <td>1</td>\n",
              "      <td>Life Sciences</td>\n",
              "      <td>1</td>\n",
              "      <td>2</td>\n",
              "      <td>3</td>\n",
              "      <td>Male</td>\n",
              "      <td>61</td>\n",
              "      <td>2</td>\n",
              "      <td>2</td>\n",
              "      <td>Research Scientist</td>\n",
              "      <td>2</td>\n",
              "      <td>Married</td>\n",
              "      <td>5130</td>\n",
              "      <td>24907</td>\n",
              "      <td>1</td>\n",
              "      <td>Y</td>\n",
              "      <td>No</td>\n",
              "      <td>23</td>\n",
              "      <td>4</td>\n",
              "      <td>4</td>\n",
              "      <td>80</td>\n",
              "      <td>1</td>\n",
              "      <td>10</td>\n",
              "      <td>3</td>\n",
              "      <td>3</td>\n",
              "      <td>10</td>\n",
              "      <td>7</td>\n",
              "      <td>1</td>\n",
              "      <td>7</td>\n",
              "    </tr>\n",
              "    <tr>\n",
              "      <th>2</th>\n",
              "      <td>37</td>\n",
              "      <td>Yes</td>\n",
              "      <td>Travel_Rarely</td>\n",
              "      <td>1373</td>\n",
              "      <td>Research &amp; Development</td>\n",
              "      <td>2</td>\n",
              "      <td>2</td>\n",
              "      <td>Other</td>\n",
              "      <td>1</td>\n",
              "      <td>4</td>\n",
              "      <td>4</td>\n",
              "      <td>Male</td>\n",
              "      <td>92</td>\n",
              "      <td>2</td>\n",
              "      <td>1</td>\n",
              "      <td>Laboratory Technician</td>\n",
              "      <td>3</td>\n",
              "      <td>Single</td>\n",
              "      <td>2090</td>\n",
              "      <td>2396</td>\n",
              "      <td>6</td>\n",
              "      <td>Y</td>\n",
              "      <td>Yes</td>\n",
              "      <td>15</td>\n",
              "      <td>3</td>\n",
              "      <td>2</td>\n",
              "      <td>80</td>\n",
              "      <td>0</td>\n",
              "      <td>7</td>\n",
              "      <td>3</td>\n",
              "      <td>3</td>\n",
              "      <td>0</td>\n",
              "      <td>0</td>\n",
              "      <td>0</td>\n",
              "      <td>0</td>\n",
              "    </tr>\n",
              "    <tr>\n",
              "      <th>3</th>\n",
              "      <td>33</td>\n",
              "      <td>No</td>\n",
              "      <td>Travel_Frequently</td>\n",
              "      <td>1392</td>\n",
              "      <td>Research &amp; Development</td>\n",
              "      <td>3</td>\n",
              "      <td>4</td>\n",
              "      <td>Life Sciences</td>\n",
              "      <td>1</td>\n",
              "      <td>5</td>\n",
              "      <td>4</td>\n",
              "      <td>Female</td>\n",
              "      <td>56</td>\n",
              "      <td>3</td>\n",
              "      <td>1</td>\n",
              "      <td>Research Scientist</td>\n",
              "      <td>3</td>\n",
              "      <td>Married</td>\n",
              "      <td>2909</td>\n",
              "      <td>23159</td>\n",
              "      <td>1</td>\n",
              "      <td>Y</td>\n",
              "      <td>Yes</td>\n",
              "      <td>11</td>\n",
              "      <td>3</td>\n",
              "      <td>3</td>\n",
              "      <td>80</td>\n",
              "      <td>0</td>\n",
              "      <td>8</td>\n",
              "      <td>3</td>\n",
              "      <td>3</td>\n",
              "      <td>8</td>\n",
              "      <td>7</td>\n",
              "      <td>3</td>\n",
              "      <td>0</td>\n",
              "    </tr>\n",
              "    <tr>\n",
              "      <th>4</th>\n",
              "      <td>27</td>\n",
              "      <td>No</td>\n",
              "      <td>Travel_Rarely</td>\n",
              "      <td>591</td>\n",
              "      <td>Research &amp; Development</td>\n",
              "      <td>2</td>\n",
              "      <td>1</td>\n",
              "      <td>Medical</td>\n",
              "      <td>1</td>\n",
              "      <td>7</td>\n",
              "      <td>1</td>\n",
              "      <td>Male</td>\n",
              "      <td>40</td>\n",
              "      <td>3</td>\n",
              "      <td>1</td>\n",
              "      <td>Laboratory Technician</td>\n",
              "      <td>2</td>\n",
              "      <td>Married</td>\n",
              "      <td>3468</td>\n",
              "      <td>16632</td>\n",
              "      <td>9</td>\n",
              "      <td>Y</td>\n",
              "      <td>No</td>\n",
              "      <td>12</td>\n",
              "      <td>3</td>\n",
              "      <td>4</td>\n",
              "      <td>80</td>\n",
              "      <td>1</td>\n",
              "      <td>6</td>\n",
              "      <td>3</td>\n",
              "      <td>3</td>\n",
              "      <td>2</td>\n",
              "      <td>2</td>\n",
              "      <td>2</td>\n",
              "      <td>2</td>\n",
              "    </tr>\n",
              "  </tbody>\n",
              "</table>\n",
              "</div>\n",
              "      <button class=\"colab-df-convert\" onclick=\"convertToInteractive('df-fc2b92fd-328c-412d-8042-a0dd24fbcba8')\"\n",
              "              title=\"Convert this dataframe to an interactive table.\"\n",
              "              style=\"display:none;\">\n",
              "        \n",
              "  <svg xmlns=\"http://www.w3.org/2000/svg\" height=\"24px\"viewBox=\"0 0 24 24\"\n",
              "       width=\"24px\">\n",
              "    <path d=\"M0 0h24v24H0V0z\" fill=\"none\"/>\n",
              "    <path d=\"M18.56 5.44l.94 2.06.94-2.06 2.06-.94-2.06-.94-.94-2.06-.94 2.06-2.06.94zm-11 1L8.5 8.5l.94-2.06 2.06-.94-2.06-.94L8.5 2.5l-.94 2.06-2.06.94zm10 10l.94 2.06.94-2.06 2.06-.94-2.06-.94-.94-2.06-.94 2.06-2.06.94z\"/><path d=\"M17.41 7.96l-1.37-1.37c-.4-.4-.92-.59-1.43-.59-.52 0-1.04.2-1.43.59L10.3 9.45l-7.72 7.72c-.78.78-.78 2.05 0 2.83L4 21.41c.39.39.9.59 1.41.59.51 0 1.02-.2 1.41-.59l7.78-7.78 2.81-2.81c.8-.78.8-2.07 0-2.86zM5.41 20L4 18.59l7.72-7.72 1.47 1.35L5.41 20z\"/>\n",
              "  </svg>\n",
              "      </button>\n",
              "      \n",
              "  <style>\n",
              "    .colab-df-container {\n",
              "      display:flex;\n",
              "      flex-wrap:wrap;\n",
              "      gap: 12px;\n",
              "    }\n",
              "\n",
              "    .colab-df-convert {\n",
              "      background-color: #E8F0FE;\n",
              "      border: none;\n",
              "      border-radius: 50%;\n",
              "      cursor: pointer;\n",
              "      display: none;\n",
              "      fill: #1967D2;\n",
              "      height: 32px;\n",
              "      padding: 0 0 0 0;\n",
              "      width: 32px;\n",
              "    }\n",
              "\n",
              "    .colab-df-convert:hover {\n",
              "      background-color: #E2EBFA;\n",
              "      box-shadow: 0px 1px 2px rgba(60, 64, 67, 0.3), 0px 1px 3px 1px rgba(60, 64, 67, 0.15);\n",
              "      fill: #174EA6;\n",
              "    }\n",
              "\n",
              "    [theme=dark] .colab-df-convert {\n",
              "      background-color: #3B4455;\n",
              "      fill: #D2E3FC;\n",
              "    }\n",
              "\n",
              "    [theme=dark] .colab-df-convert:hover {\n",
              "      background-color: #434B5C;\n",
              "      box-shadow: 0px 1px 3px 1px rgba(0, 0, 0, 0.15);\n",
              "      filter: drop-shadow(0px 1px 2px rgba(0, 0, 0, 0.3));\n",
              "      fill: #FFFFFF;\n",
              "    }\n",
              "  </style>\n",
              "\n",
              "      <script>\n",
              "        const buttonEl =\n",
              "          document.querySelector('#df-fc2b92fd-328c-412d-8042-a0dd24fbcba8 button.colab-df-convert');\n",
              "        buttonEl.style.display =\n",
              "          google.colab.kernel.accessAllowed ? 'block' : 'none';\n",
              "\n",
              "        async function convertToInteractive(key) {\n",
              "          const element = document.querySelector('#df-fc2b92fd-328c-412d-8042-a0dd24fbcba8');\n",
              "          const dataTable =\n",
              "            await google.colab.kernel.invokeFunction('convertToInteractive',\n",
              "                                                     [key], {});\n",
              "          if (!dataTable) return;\n",
              "\n",
              "          const docLinkHtml = 'Like what you see? Visit the ' +\n",
              "            '<a target=\"_blank\" href=https://colab.research.google.com/notebooks/data_table.ipynb>data table notebook</a>'\n",
              "            + ' to learn more about interactive tables.';\n",
              "          element.innerHTML = '';\n",
              "          dataTable['output_type'] = 'display_data';\n",
              "          await google.colab.output.renderOutput(dataTable, element);\n",
              "          const docLink = document.createElement('div');\n",
              "          docLink.innerHTML = docLinkHtml;\n",
              "          element.appendChild(docLink);\n",
              "        }\n",
              "      </script>\n",
              "    </div>\n",
              "  </div>\n",
              "  "
            ]
          },
          "metadata": {},
          "execution_count": 3
        }
      ]
    },
    {
      "cell_type": "code",
      "source": [
        "hr.shape"
      ],
      "metadata": {
        "colab": {
          "base_uri": "https://localhost:8080/"
        },
        "id": "ugD-wkSDYwiX",
        "outputId": "20c6bfc5-bd08-4e0f-b921-6658cbcf0256"
      },
      "execution_count": 4,
      "outputs": [
        {
          "output_type": "execute_result",
          "data": {
            "text/plain": [
              "(1470, 35)"
            ]
          },
          "metadata": {},
          "execution_count": 4
        }
      ]
    },
    {
      "cell_type": "code",
      "source": [
        "hr = hr.astype({'JobLevel': 'category', 'StockOptionLevel': 'category', 'Education':'category',\n",
        "                'MaritalStatus':'category','Attrition':'category', 'OverTime':'category', 'Gender':'category',\n",
        "                'BusinessTravel':'category', 'Department':'category','EducationField':'category','JobRole':'category'\n",
        "                })"
      ],
      "metadata": {
        "id": "WskMb6kN50Sl"
      },
      "execution_count": 5,
      "outputs": []
    },
    {
      "cell_type": "code",
      "source": [
        "hr.dtypes"
      ],
      "metadata": {
        "colab": {
          "base_uri": "https://localhost:8080/"
        },
        "id": "Anr27V6e-mfR",
        "outputId": "3ce125a3-1a8b-48aa-b9ec-05d57f5bca1f"
      },
      "execution_count": 6,
      "outputs": [
        {
          "output_type": "execute_result",
          "data": {
            "text/plain": [
              "Age                            int64\n",
              "Attrition                   category\n",
              "BusinessTravel              category\n",
              "DailyRate                      int64\n",
              "Department                  category\n",
              "DistanceFromHome               int64\n",
              "Education                   category\n",
              "EducationField              category\n",
              "EmployeeCount                  int64\n",
              "EmployeeNumber                 int64\n",
              "EnvironmentSatisfaction        int64\n",
              "Gender                      category\n",
              "HourlyRate                     int64\n",
              "JobInvolvement                 int64\n",
              "JobLevel                    category\n",
              "JobRole                     category\n",
              "JobSatisfaction                int64\n",
              "MaritalStatus               category\n",
              "MonthlyIncome                  int64\n",
              "MonthlyRate                    int64\n",
              "NumCompaniesWorked             int64\n",
              "Over18                        object\n",
              "OverTime                    category\n",
              "PercentSalaryHike              int64\n",
              "PerformanceRating              int64\n",
              "RelationshipSatisfaction       int64\n",
              "StandardHours                  int64\n",
              "StockOptionLevel            category\n",
              "TotalWorkingYears              int64\n",
              "TrainingTimesLastYear          int64\n",
              "WorkLifeBalance                int64\n",
              "YearsAtCompany                 int64\n",
              "YearsInCurrentRole             int64\n",
              "YearsSinceLastPromotion        int64\n",
              "YearsWithCurrManager           int64\n",
              "dtype: object"
            ]
          },
          "metadata": {},
          "execution_count": 6
        }
      ]
    },
    {
      "cell_type": "code",
      "source": [
        "#변수 제거(모두 같은 값만 가지므로\n",
        "hr.drop(['EmployeeCount','StandardHours','Over18','EmployeeNumber'],axis=1,inplace=True)"
      ],
      "metadata": {
        "id": "qJ7Gb1CfFTlr"
      },
      "execution_count": 7,
      "outputs": []
    },
    {
      "cell_type": "code",
      "source": [
        "#의사결정나무는 정규화 불필요\n",
        "hr_copy = hr.copy().drop('Attrition',axis=1)"
      ],
      "metadata": {
        "id": "6Dojhgdt50Z9"
      },
      "execution_count": 8,
      "outputs": []
    },
    {
      "cell_type": "code",
      "source": [
        "from sklearn.preprocessing import RobustScaler\n",
        "\n",
        "#hr_copy = hr.copy().drop(\"Attrition\",axis=1)\n",
        "num_fea = [column for column in hr_copy.columns if hr_copy[column].dtype != \"category\"]\n",
        "cat_fea = [column for column in hr_copy.columns if hr_copy[column].dtype == \"category\"]\n",
        "\n",
        "#data_copy[num_fea] = RobustScaler().fit_transform(data_copy[num_fea])\n",
        "\n",
        "#cat_fea.append('Attrition')"
      ],
      "metadata": {
        "id": "LMK5DWCJ-wW0"
      },
      "execution_count": 9,
      "outputs": []
    },
    {
      "cell_type": "code",
      "source": [
        "#원핫인코더로 더미화, get_dummies도 가능\n",
        "\n",
        "from sklearn.preprocessing import OneHotEncoder\n",
        "\n",
        "ohe = OneHotEncoder()\n",
        "\n",
        "dummies = ohe.fit_transform(hr[cat_fea]).toarray()\n",
        "\n",
        "df_dummies = pd.DataFrame(dummies, columns = ohe.get_feature_names(hr[cat_fea].columns))\n",
        "\n",
        "hr_dum=pd.concat([hr_copy[num_fea].reset_index(), df_dummies], axis=1)\n",
        "hr_dum.drop('index',inplace=True,axis=1)\n",
        "\n",
        "hr_dum.columns"
      ],
      "metadata": {
        "colab": {
          "base_uri": "https://localhost:8080/"
        },
        "id": "83QShNuy-xUI",
        "outputId": "94ace4a4-17bf-4fc9-a0c4-b4f0a659eb60"
      },
      "execution_count": 10,
      "outputs": [
        {
          "output_type": "stream",
          "name": "stderr",
          "text": [
            "/usr/local/lib/python3.8/dist-packages/sklearn/utils/deprecation.py:87: FutureWarning: Function get_feature_names is deprecated; get_feature_names is deprecated in 1.0 and will be removed in 1.2. Please use get_feature_names_out instead.\n",
            "  warnings.warn(msg, category=FutureWarning)\n"
          ]
        },
        {
          "output_type": "execute_result",
          "data": {
            "text/plain": [
              "Index(['Age', 'DailyRate', 'DistanceFromHome', 'EnvironmentSatisfaction',\n",
              "       'HourlyRate', 'JobInvolvement', 'JobSatisfaction', 'MonthlyIncome',\n",
              "       'MonthlyRate', 'NumCompaniesWorked', 'PercentSalaryHike',\n",
              "       'PerformanceRating', 'RelationshipSatisfaction', 'TotalWorkingYears',\n",
              "       'TrainingTimesLastYear', 'WorkLifeBalance', 'YearsAtCompany',\n",
              "       'YearsInCurrentRole', 'YearsSinceLastPromotion', 'YearsWithCurrManager',\n",
              "       'BusinessTravel_Non-Travel', 'BusinessTravel_Travel_Frequently',\n",
              "       'BusinessTravel_Travel_Rarely', 'Department_Human Resources',\n",
              "       'Department_Research & Development', 'Department_Sales', 'Education_1',\n",
              "       'Education_2', 'Education_3', 'Education_4', 'Education_5',\n",
              "       'EducationField_Human Resources', 'EducationField_Life Sciences',\n",
              "       'EducationField_Marketing', 'EducationField_Medical',\n",
              "       'EducationField_Other', 'EducationField_Technical Degree',\n",
              "       'Gender_Female', 'Gender_Male', 'JobLevel_1', 'JobLevel_2',\n",
              "       'JobLevel_3', 'JobLevel_4', 'JobLevel_5',\n",
              "       'JobRole_Healthcare Representative', 'JobRole_Human Resources',\n",
              "       'JobRole_Laboratory Technician', 'JobRole_Manager',\n",
              "       'JobRole_Manufacturing Director', 'JobRole_Research Director',\n",
              "       'JobRole_Research Scientist', 'JobRole_Sales Executive',\n",
              "       'JobRole_Sales Representative', 'MaritalStatus_Divorced',\n",
              "       'MaritalStatus_Married', 'MaritalStatus_Single', 'OverTime_No',\n",
              "       'OverTime_Yes', 'StockOptionLevel_0', 'StockOptionLevel_1',\n",
              "       'StockOptionLevel_2', 'StockOptionLevel_3'],\n",
              "      dtype='object')"
            ]
          },
          "metadata": {},
          "execution_count": 10
        }
      ]
    },
    {
      "cell_type": "code",
      "source": [
        "#더미화( or 원핫 인코더)\n",
        "#hr_cp = hr.copy()\n",
        "#x_samp_dum = pd.get_dummies(x_samp[['JobLevel', 'StockOptionLevel', 'Education','MaritalStatus', 'OverTime', 'Gender','BusinessTravel', 'Department','EducationField','JobRole']])\n",
        "#x_samp = pd.concat([x_samp,x_samp_dum], axis=1)"
      ],
      "metadata": {
        "id": "U4Md9gZs6kTc"
      },
      "execution_count": null,
      "outputs": []
    },
    {
      "cell_type": "code",
      "source": [
        "#set 분리\n",
        "x = hr_dum\n",
        "y = hr.Attrition"
      ],
      "metadata": {
        "id": "8SKEmGuV50cp"
      },
      "execution_count": 16,
      "outputs": []
    },
    {
      "cell_type": "code",
      "source": [
        "y.value_counts()"
      ],
      "metadata": {
        "colab": {
          "base_uri": "https://localhost:8080/"
        },
        "id": "Be1aji5f6b5c",
        "outputId": "0a52c122-b0d1-4eff-9f63-8b8da5412fbd"
      },
      "execution_count": 17,
      "outputs": [
        {
          "output_type": "execute_result",
          "data": {
            "text/plain": [
              "No     1233\n",
              "Yes     237\n",
              "Name: Attrition, dtype: int64"
            ]
          },
          "metadata": {},
          "execution_count": 17
        }
      ]
    },
    {
      "cell_type": "code",
      "source": [
        "#언더샘플링 (레이블 수 맞추기)\n",
        "from imblearn.under_sampling import *\n",
        "#undersample = RandomUnderSampler(sampling_strategy='majority')\n",
        "#X_samp, y_samp = undersample.fit_resample(x,y)"
      ],
      "metadata": {
        "id": "lBN4ebQf6dgH"
      },
      "execution_count": 13,
      "outputs": []
    },
    {
      "cell_type": "code",
      "source": [
        "#토멕랭크 샘플링\n",
        "#X_samp, y_samp = TomekLinks().fit_resample(x, y)"
      ],
      "metadata": {
        "id": "389VGBz8RuGJ"
      },
      "execution_count": null,
      "outputs": []
    },
    {
      "cell_type": "code",
      "source": [
        "#cnn 샘플링\n",
        "#X_samp, y_samp = CondensedNearestNeighbour().fit_resample(x, y)"
      ],
      "metadata": {
        "id": "PsPekbeMTMZD"
      },
      "execution_count": null,
      "outputs": []
    },
    {
      "cell_type": "code",
      "source": [
        "# oss = 토멕랭크 + cnn <채택>\n",
        "X_samp, y_samp = OneSidedSelection().fit_resample(x,y)"
      ],
      "metadata": {
        "id": "7fWrV-lxVw9J"
      },
      "execution_count": 19,
      "outputs": []
    },
    {
      "cell_type": "code",
      "source": [
        "y_samp.value_counts()"
      ],
      "metadata": {
        "colab": {
          "base_uri": "https://localhost:8080/"
        },
        "id": "gFwQ280j6h7O",
        "outputId": "11d9c715-5acd-4d4c-f78b-ae4b6ecf2958"
      },
      "execution_count": 20,
      "outputs": [
        {
          "output_type": "execute_result",
          "data": {
            "text/plain": [
              "No     1115\n",
              "Yes     237\n",
              "Name: Attrition, dtype: int64"
            ]
          },
          "metadata": {},
          "execution_count": 20
        }
      ]
    },
    {
      "cell_type": "code",
      "source": [
        "from sklearn.model_selection import train_test_split\n",
        "x_train, x_test, y_train, y_test = train_test_split(x, y, test_size=.2, random_state=4) #,shuffle = True, stratify = y_samp, random_state = 5)"
      ],
      "metadata": {
        "id": "gTLj9W0I6tWN"
      },
      "execution_count": 38,
      "outputs": []
    },
    {
      "cell_type": "code",
      "source": [
        "from sklearn.tree import DecisionTreeClassifier\n",
        "\n",
        "#성장제한 / 파라미터 튜닝\n",
        "max_depth = [4,5,6,7,8,9,10]\n",
        "for i in max_depth:\n",
        "  dt_md = DecisionTreeClassifier(min_samples_leaf = 20\n",
        "                                 , criterion = \"entropy\",max_depth = i, class_weight= 'balanced',random_state = 2)\n",
        "  dt_md.fit(x_train,y_train)\n",
        "  print(\"max_depth:\",i)\n",
        "  print('정확도:',dt_md.score(x_test,y_test))\n"
      ],
      "metadata": {
        "colab": {
          "base_uri": "https://localhost:8080/"
        },
        "id": "DVg-Xhc661ay",
        "outputId": "75a7ee69-c821-449e-d69d-e17f5f4e9317"
      },
      "execution_count": 39,
      "outputs": [
        {
          "output_type": "stream",
          "name": "stdout",
          "text": [
            "max_depth: 4\n",
            "정확도: 0.7142857142857143\n",
            "max_depth: 5\n",
            "정확도: 0.7755102040816326\n",
            "max_depth: 6\n",
            "정확도: 0.7210884353741497\n",
            "max_depth: 7\n",
            "정확도: 0.717687074829932\n",
            "max_depth: 8\n",
            "정확도: 0.6938775510204082\n",
            "max_depth: 9\n",
            "정확도: 0.6870748299319728\n",
            "max_depth: 10\n",
            "정확도: 0.6870748299319728\n"
          ]
        }
      ]
    },
    {
      "cell_type": "code",
      "source": [
        "  #가중치 줬을때\n",
        "  dt_5 = DecisionTreeClassifier(min_samples_leaf = 20,\n",
        "                                #말단노드최소수  \n",
        "                                criterion = \"entropy\",\n",
        "                                #엔트로피 지수 사용\n",
        "                                max_depth = 5,\n",
        "                                #최대성장 \n",
        "                                class_weight = 'balanced',\n",
        "                                #가중치 부여\n",
        "                                random_state=2)\n",
        "                                \n",
        "  dt_5.fit(x_train,y_train)\n",
        "  print('정확도:',dt_5.score(x_test,y_test))"
      ],
      "metadata": {
        "colab": {
          "base_uri": "https://localhost:8080/"
        },
        "id": "cB8bkRzD66DS",
        "outputId": "eb204b11-0f2b-49a9-c671-444ea707804f"
      },
      "execution_count": 43,
      "outputs": [
        {
          "output_type": "stream",
          "name": "stdout",
          "text": [
            "정확도: 0.7755102040816326\n"
          ]
        }
      ]
    },
    {
      "cell_type": "code",
      "source": [
        "#시각화\n",
        "from sklearn import tree\n",
        "import graphviz\n",
        "dot_data = tree.export_graphviz(dt_5,   # 의사결정나무 모형 대입                 \n",
        "                               out_file = None,  # file로 변환할 것인가\n",
        "                               feature_names = x_test.columns,  # feature 이름\n",
        "                               class_names = ['NO','YES'],  # target 이름\n",
        "                               filled = True,           # 그림에 색상을 넣을것인가\n",
        "                               rounded = True,          # 반올림을 진행할 것인가\n",
        "                               special_characters = True)   # 특수문자를 사용하나\n",
        "\n",
        "graph = graphviz.Source(dot_data)              \n",
        "graph"
      ],
      "metadata": {
        "colab": {
          "base_uri": "https://localhost:8080/",
          "height": 937
        },
        "id": "VzyfboJ468ML",
        "outputId": "3b85a8a5-b03d-4412-afa0-eef4e11d096d"
      },
      "execution_count": null,
      "outputs": [
        {
          "output_type": "execute_result",
          "data": {
            "text/plain": [
              "<graphviz.files.Source at 0x7f7f6db52190>"
            ],
            "image/svg+xml": "<?xml version=\"1.0\" encoding=\"UTF-8\" standalone=\"no\"?>\n<!DOCTYPE svg PUBLIC \"-//W3C//DTD SVG 1.1//EN\"\n \"http://www.w3.org/Graphics/SVG/1.1/DTD/svg11.dtd\">\n<!-- Generated by graphviz version 2.43.0 (0)\n -->\n<!-- Title: Tree Pages: 1 -->\n<svg width=\"2942pt\" height=\"671pt\"\n viewBox=\"0.00 0.00 2942.00 671.00\" xmlns=\"http://www.w3.org/2000/svg\" xmlns:xlink=\"http://www.w3.org/1999/xlink\">\n<g id=\"graph0\" class=\"graph\" transform=\"scale(1 1) rotate(0) translate(4 667)\">\n<title>Tree</title>\n<polygon fill=\"white\" stroke=\"transparent\" points=\"-4,4 -4,-667 2938,-667 2938,4 -4,4\"/>\n<!-- 0 -->\n<g id=\"node1\" class=\"node\">\n<title>0</title>\n<path fill=\"#ffffff\" stroke=\"black\" d=\"M1499,-663C1499,-663 1376,-663 1376,-663 1370,-663 1364,-657 1364,-651 1364,-651 1364,-592 1364,-592 1364,-586 1370,-580 1376,-580 1376,-580 1499,-580 1499,-580 1505,-580 1511,-586 1511,-592 1511,-592 1511,-651 1511,-651 1511,-657 1505,-663 1499,-663\"/>\n<text text-anchor=\"start\" x=\"1375\" y=\"-647.8\" font-family=\"Helvetica,sans-Serif\" font-size=\"14.00\">OverTime_Yes ≤ 0.5</text>\n<text text-anchor=\"start\" x=\"1397.5\" y=\"-632.8\" font-family=\"Helvetica,sans-Serif\" font-size=\"14.00\">entropy = 1.0</text>\n<text text-anchor=\"start\" x=\"1389\" y=\"-617.8\" font-family=\"Helvetica,sans-Serif\" font-size=\"14.00\">samples = 1092</text>\n<text text-anchor=\"start\" x=\"1372\" y=\"-602.8\" font-family=\"Helvetica,sans-Serif\" font-size=\"14.00\">value = [546.0, 546.0]</text>\n<text text-anchor=\"start\" x=\"1400.5\" y=\"-587.8\" font-family=\"Helvetica,sans-Serif\" font-size=\"14.00\">class = YES</text>\n</g>\n<!-- 1 -->\n<g id=\"node2\" class=\"node\">\n<title>1</title>\n<path fill=\"#f4caab\" stroke=\"black\" d=\"M1145.5,-544C1145.5,-544 999.5,-544 999.5,-544 993.5,-544 987.5,-538 987.5,-532 987.5,-532 987.5,-473 987.5,-473 987.5,-467 993.5,-461 999.5,-461 999.5,-461 1145.5,-461 1145.5,-461 1151.5,-461 1157.5,-467 1157.5,-473 1157.5,-473 1157.5,-532 1157.5,-532 1157.5,-538 1151.5,-544 1145.5,-544\"/>\n<text text-anchor=\"start\" x=\"1002.5\" y=\"-528.8\" font-family=\"Helvetica,sans-Serif\" font-size=\"14.00\">YearsAtCompany ≤ 1.5</text>\n<text text-anchor=\"start\" x=\"1025\" y=\"-513.8\" font-family=\"Helvetica,sans-Serif\" font-size=\"14.00\">entropy = 0.948</text>\n<text text-anchor=\"start\" x=\"1027.5\" y=\"-498.8\" font-family=\"Helvetica,sans-Serif\" font-size=\"14.00\">samples = 778</text>\n<text text-anchor=\"start\" x=\"995.5\" y=\"-483.8\" font-family=\"Helvetica,sans-Serif\" font-size=\"14.00\">value = [418.66, 241.672]</text>\n<text text-anchor=\"start\" x=\"1038.5\" y=\"-468.8\" font-family=\"Helvetica,sans-Serif\" font-size=\"14.00\">class = NO</text>\n</g>\n<!-- 0&#45;&gt;1 -->\n<g id=\"edge1\" class=\"edge\">\n<title>0&#45;&gt;1</title>\n<path fill=\"none\" stroke=\"black\" d=\"M1363.64,-596.82C1307.09,-578.7 1228.65,-553.55 1167.44,-533.93\"/>\n<polygon fill=\"black\" stroke=\"black\" points=\"1168.37,-530.55 1157.77,-530.83 1166.23,-537.22 1168.37,-530.55\"/>\n<text text-anchor=\"middle\" x=\"1169.21\" y=\"-549.36\" font-family=\"Helvetica,sans-Serif\" font-size=\"14.00\">True</text>\n</g>\n<!-- 20 -->\n<g id=\"node21\" class=\"node\">\n<title>20</title>\n<path fill=\"#8cc6f0\" stroke=\"black\" d=\"M1936.5,-544C1936.5,-544 1790.5,-544 1790.5,-544 1784.5,-544 1778.5,-538 1778.5,-532 1778.5,-532 1778.5,-473 1778.5,-473 1778.5,-467 1784.5,-461 1790.5,-461 1790.5,-461 1936.5,-461 1936.5,-461 1942.5,-461 1948.5,-467 1948.5,-473 1948.5,-473 1948.5,-532 1948.5,-532 1948.5,-538 1942.5,-544 1936.5,-544\"/>\n<text text-anchor=\"start\" x=\"1812\" y=\"-528.8\" font-family=\"Helvetica,sans-Serif\" font-size=\"14.00\">JobLevel_1 ≤ 0.5</text>\n<text text-anchor=\"start\" x=\"1816\" y=\"-513.8\" font-family=\"Helvetica,sans-Serif\" font-size=\"14.00\">entropy = 0.875</text>\n<text text-anchor=\"start\" x=\"1818.5\" y=\"-498.8\" font-family=\"Helvetica,sans-Serif\" font-size=\"14.00\">samples = 314</text>\n<text text-anchor=\"start\" x=\"1786.5\" y=\"-483.8\" font-family=\"Helvetica,sans-Serif\" font-size=\"14.00\">value = [127.34, 304.328]</text>\n<text text-anchor=\"start\" x=\"1826.5\" y=\"-468.8\" font-family=\"Helvetica,sans-Serif\" font-size=\"14.00\">class = YES</text>\n</g>\n<!-- 0&#45;&gt;20 -->\n<g id=\"edge20\" class=\"edge\">\n<title>0&#45;&gt;20</title>\n<path fill=\"none\" stroke=\"black\" d=\"M1511.22,-600.25C1582.47,-580.68 1690.75,-550.95 1768.45,-529.61\"/>\n<polygon fill=\"black\" stroke=\"black\" points=\"1769.53,-532.94 1778.24,-526.92 1767.67,-526.19 1769.53,-532.94\"/>\n<text text-anchor=\"middle\" x=\"1765.88\" y=\"-544.94\" font-family=\"Helvetica,sans-Serif\" font-size=\"14.00\">False</text>\n</g>\n<!-- 2 -->\n<g id=\"node3\" class=\"node\">\n<title>2</title>\n<path fill=\"#a7d3f3\" stroke=\"black\" d=\"M588.5,-425C588.5,-425 450.5,-425 450.5,-425 444.5,-425 438.5,-419 438.5,-413 438.5,-413 438.5,-354 438.5,-354 438.5,-348 444.5,-342 450.5,-342 450.5,-342 588.5,-342 588.5,-342 594.5,-342 600.5,-348 600.5,-354 600.5,-354 600.5,-413 600.5,-413 600.5,-419 594.5,-425 588.5,-425\"/>\n<text text-anchor=\"start\" x=\"486.5\" y=\"-409.8\" font-family=\"Helvetica,sans-Serif\" font-size=\"14.00\">Age ≤ 32.5</text>\n<text text-anchor=\"start\" x=\"475.5\" y=\"-394.8\" font-family=\"Helvetica,sans-Serif\" font-size=\"14.00\">entropy = 0.94</text>\n<text text-anchor=\"start\" x=\"474.5\" y=\"-379.8\" font-family=\"Helvetica,sans-Serif\" font-size=\"14.00\">samples = 105</text>\n<text text-anchor=\"start\" x=\"446.5\" y=\"-364.8\" font-family=\"Helvetica,sans-Serif\" font-size=\"14.00\">value = [46.251, 83.541]</text>\n<text text-anchor=\"start\" x=\"482.5\" y=\"-349.8\" font-family=\"Helvetica,sans-Serif\" font-size=\"14.00\">class = YES</text>\n</g>\n<!-- 1&#45;&gt;2 -->\n<g id=\"edge2\" class=\"edge\">\n<title>1&#45;&gt;2</title>\n<path fill=\"none\" stroke=\"black\" d=\"M987.31,-483.48C885.31,-461.9 715.21,-425.91 610.65,-403.78\"/>\n<polygon fill=\"black\" stroke=\"black\" points=\"611.24,-400.33 600.74,-401.69 609.8,-407.18 611.24,-400.33\"/>\n</g>\n<!-- 9 -->\n<g id=\"node10\" class=\"node\">\n<title>9</title>\n<path fill=\"#f0b78d\" stroke=\"black\" d=\"M1169,-425C1169,-425 976,-425 976,-425 970,-425 964,-419 964,-413 964,-413 964,-354 964,-354 964,-348 970,-342 976,-342 976,-342 1169,-342 1169,-342 1175,-342 1181,-348 1181,-354 1181,-354 1181,-413 1181,-413 1181,-419 1175,-425 1169,-425\"/>\n<text text-anchor=\"start\" x=\"972\" y=\"-409.8\" font-family=\"Helvetica,sans-Serif\" font-size=\"14.00\">BusinessTravel_Non&#45;Travel ≤ 0.5</text>\n<text text-anchor=\"start\" x=\"1025\" y=\"-394.8\" font-family=\"Helvetica,sans-Serif\" font-size=\"14.00\">entropy = 0.879</text>\n<text text-anchor=\"start\" x=\"1027.5\" y=\"-379.8\" font-family=\"Helvetica,sans-Serif\" font-size=\"14.00\">samples = 673</text>\n<text text-anchor=\"start\" x=\"992\" y=\"-364.8\" font-family=\"Helvetica,sans-Serif\" font-size=\"14.00\">value = [372.409, 158.131]</text>\n<text text-anchor=\"start\" x=\"1038.5\" y=\"-349.8\" font-family=\"Helvetica,sans-Serif\" font-size=\"14.00\">class = NO</text>\n</g>\n<!-- 1&#45;&gt;9 -->\n<g id=\"edge9\" class=\"edge\">\n<title>1&#45;&gt;9</title>\n<path fill=\"none\" stroke=\"black\" d=\"M1072.5,-460.91C1072.5,-452.65 1072.5,-443.86 1072.5,-435.3\"/>\n<polygon fill=\"black\" stroke=\"black\" points=\"1076,-435.02 1072.5,-425.02 1069,-435.02 1076,-435.02\"/>\n</g>\n<!-- 3 -->\n<g id=\"node4\" class=\"node\">\n<title>3</title>\n<path fill=\"#63b2ea\" stroke=\"black\" d=\"M326,-306C326,-306 175,-306 175,-306 169,-306 163,-300 163,-294 163,-294 163,-235 163,-235 163,-229 169,-223 175,-223 175,-223 326,-223 326,-223 332,-223 338,-229 338,-235 338,-235 338,-294 338,-294 338,-300 332,-306 326,-306\"/>\n<text text-anchor=\"start\" x=\"171\" y=\"-290.8\" font-family=\"Helvetica,sans-Serif\" font-size=\"14.00\">MaritalStatus_Single ≤ 0.5</text>\n<text text-anchor=\"start\" x=\"203\" y=\"-275.8\" font-family=\"Helvetica,sans-Serif\" font-size=\"14.00\">entropy = 0.665</text>\n<text text-anchor=\"start\" x=\"209.5\" y=\"-260.8\" font-family=\"Helvetica,sans-Serif\" font-size=\"14.00\">samples = 49</text>\n<text text-anchor=\"start\" x=\"177.5\" y=\"-245.8\" font-family=\"Helvetica,sans-Serif\" font-size=\"14.00\">value = [15.017, 71.607]</text>\n<text text-anchor=\"start\" x=\"213.5\" y=\"-230.8\" font-family=\"Helvetica,sans-Serif\" font-size=\"14.00\">class = YES</text>\n</g>\n<!-- 2&#45;&gt;3 -->\n<g id=\"edge3\" class=\"edge\">\n<title>2&#45;&gt;3</title>\n<path fill=\"none\" stroke=\"black\" d=\"M438.43,-347.24C409.95,-334.85 377.66,-320.81 347.98,-307.9\"/>\n<polygon fill=\"black\" stroke=\"black\" points=\"349,-304.53 338.44,-303.75 346.21,-310.95 349,-304.53\"/>\n</g>\n<!-- 6 -->\n<g id=\"node7\" class=\"node\">\n<title>6</title>\n<path fill=\"#efb185\" stroke=\"black\" d=\"M592.5,-306C592.5,-306 446.5,-306 446.5,-306 440.5,-306 434.5,-300 434.5,-294 434.5,-294 434.5,-235 434.5,-235 434.5,-229 440.5,-223 446.5,-223 446.5,-223 592.5,-223 592.5,-223 598.5,-223 604.5,-229 604.5,-235 604.5,-235 604.5,-294 604.5,-294 604.5,-300 598.5,-306 592.5,-306\"/>\n<text text-anchor=\"start\" x=\"442.5\" y=\"-290.8\" font-family=\"Helvetica,sans-Serif\" font-size=\"14.00\">PercentSalaryHike ≤ 15.5</text>\n<text text-anchor=\"start\" x=\"472\" y=\"-275.8\" font-family=\"Helvetica,sans-Serif\" font-size=\"14.00\">entropy = 0.851</text>\n<text text-anchor=\"start\" x=\"478.5\" y=\"-260.8\" font-family=\"Helvetica,sans-Serif\" font-size=\"14.00\">samples = 56</text>\n<text text-anchor=\"start\" x=\"446.5\" y=\"-245.8\" font-family=\"Helvetica,sans-Serif\" font-size=\"14.00\">value = [31.234, 11.934]</text>\n<text text-anchor=\"start\" x=\"485.5\" y=\"-230.8\" font-family=\"Helvetica,sans-Serif\" font-size=\"14.00\">class = NO</text>\n</g>\n<!-- 2&#45;&gt;6 -->\n<g id=\"edge6\" class=\"edge\">\n<title>2&#45;&gt;6</title>\n<path fill=\"none\" stroke=\"black\" d=\"M519.5,-341.91C519.5,-333.65 519.5,-324.86 519.5,-316.3\"/>\n<polygon fill=\"black\" stroke=\"black\" points=\"523,-316.02 519.5,-306.02 516,-316.02 523,-316.02\"/>\n</g>\n<!-- 4 -->\n<g id=\"node5\" class=\"node\">\n<title>4</title>\n<path fill=\"#94caf1\" stroke=\"black\" d=\"M143,-179.5C143,-179.5 12,-179.5 12,-179.5 6,-179.5 0,-173.5 0,-167.5 0,-167.5 0,-123.5 0,-123.5 0,-117.5 6,-111.5 12,-111.5 12,-111.5 143,-111.5 143,-111.5 149,-111.5 155,-117.5 155,-123.5 155,-123.5 155,-167.5 155,-167.5 155,-173.5 149,-179.5 143,-179.5\"/>\n<text text-anchor=\"start\" x=\"30\" y=\"-164.3\" font-family=\"Helvetica,sans-Serif\" font-size=\"14.00\">entropy = 0.899</text>\n<text text-anchor=\"start\" x=\"36.5\" y=\"-149.3\" font-family=\"Helvetica,sans-Serif\" font-size=\"14.00\">samples = 23</text>\n<text text-anchor=\"start\" x=\"8\" y=\"-134.3\" font-family=\"Helvetica,sans-Serif\" font-size=\"14.00\">value = [9.611, 20.885]</text>\n<text text-anchor=\"start\" x=\"40.5\" y=\"-119.3\" font-family=\"Helvetica,sans-Serif\" font-size=\"14.00\">class = YES</text>\n</g>\n<!-- 3&#45;&gt;4 -->\n<g id=\"edge4\" class=\"edge\">\n<title>3&#45;&gt;4</title>\n<path fill=\"none\" stroke=\"black\" d=\"M190.48,-222.91C172.53,-210.77 152.9,-197.49 135.11,-185.46\"/>\n<polygon fill=\"black\" stroke=\"black\" points=\"136.79,-182.37 126.54,-179.67 132.86,-188.17 136.79,-182.37\"/>\n</g>\n<!-- 5 -->\n<g id=\"node6\" class=\"node\">\n<title>5</title>\n<path fill=\"#4ea7e8\" stroke=\"black\" d=\"M316,-179.5C316,-179.5 185,-179.5 185,-179.5 179,-179.5 173,-173.5 173,-167.5 173,-167.5 173,-123.5 173,-123.5 173,-117.5 179,-111.5 185,-111.5 185,-111.5 316,-111.5 316,-111.5 322,-111.5 328,-117.5 328,-123.5 328,-123.5 328,-167.5 328,-167.5 328,-173.5 322,-179.5 316,-179.5\"/>\n<text text-anchor=\"start\" x=\"203\" y=\"-164.3\" font-family=\"Helvetica,sans-Serif\" font-size=\"14.00\">entropy = 0.457</text>\n<text text-anchor=\"start\" x=\"209.5\" y=\"-149.3\" font-family=\"Helvetica,sans-Serif\" font-size=\"14.00\">samples = 26</text>\n<text text-anchor=\"start\" x=\"181\" y=\"-134.3\" font-family=\"Helvetica,sans-Serif\" font-size=\"14.00\">value = [5.406, 50.721]</text>\n<text text-anchor=\"start\" x=\"213.5\" y=\"-119.3\" font-family=\"Helvetica,sans-Serif\" font-size=\"14.00\">class = YES</text>\n</g>\n<!-- 3&#45;&gt;5 -->\n<g id=\"edge5\" class=\"edge\">\n<title>3&#45;&gt;5</title>\n<path fill=\"none\" stroke=\"black\" d=\"M250.5,-222.91C250.5,-212.2 250.5,-200.62 250.5,-189.78\"/>\n<polygon fill=\"black\" stroke=\"black\" points=\"254,-189.67 250.5,-179.67 247,-189.67 254,-189.67\"/>\n</g>\n<!-- 7 -->\n<g id=\"node8\" class=\"node\">\n<title>7</title>\n<path fill=\"#f7dac6\" stroke=\"black\" d=\"M496.5,-179.5C496.5,-179.5 358.5,-179.5 358.5,-179.5 352.5,-179.5 346.5,-173.5 346.5,-167.5 346.5,-167.5 346.5,-123.5 346.5,-123.5 346.5,-117.5 352.5,-111.5 358.5,-111.5 358.5,-111.5 496.5,-111.5 496.5,-111.5 502.5,-111.5 508.5,-117.5 508.5,-123.5 508.5,-123.5 508.5,-167.5 508.5,-167.5 508.5,-173.5 502.5,-179.5 496.5,-179.5\"/>\n<text text-anchor=\"start\" x=\"380\" y=\"-164.3\" font-family=\"Helvetica,sans-Serif\" font-size=\"14.00\">entropy = 0.979</text>\n<text text-anchor=\"start\" x=\"386.5\" y=\"-149.3\" font-family=\"Helvetica,sans-Serif\" font-size=\"14.00\">samples = 32</text>\n<text text-anchor=\"start\" x=\"354.5\" y=\"-134.3\" font-family=\"Helvetica,sans-Serif\" font-size=\"14.00\">value = [16.818, 11.934]</text>\n<text text-anchor=\"start\" x=\"393.5\" y=\"-119.3\" font-family=\"Helvetica,sans-Serif\" font-size=\"14.00\">class = NO</text>\n</g>\n<!-- 6&#45;&gt;7 -->\n<g id=\"edge7\" class=\"edge\">\n<title>6&#45;&gt;7</title>\n<path fill=\"none\" stroke=\"black\" d=\"M487.58,-222.91C478.64,-211.54 468.92,-199.18 459.95,-187.77\"/>\n<polygon fill=\"black\" stroke=\"black\" points=\"462.51,-185.36 453.58,-179.67 457.01,-189.69 462.51,-185.36\"/>\n</g>\n<!-- 8 -->\n<g id=\"node9\" class=\"node\">\n<title>8</title>\n<path fill=\"#e58139\" stroke=\"black\" d=\"M654.5,-179.5C654.5,-179.5 538.5,-179.5 538.5,-179.5 532.5,-179.5 526.5,-173.5 526.5,-167.5 526.5,-167.5 526.5,-123.5 526.5,-123.5 526.5,-117.5 532.5,-111.5 538.5,-111.5 538.5,-111.5 654.5,-111.5 654.5,-111.5 660.5,-111.5 666.5,-117.5 666.5,-123.5 666.5,-123.5 666.5,-167.5 666.5,-167.5 666.5,-173.5 660.5,-179.5 654.5,-179.5\"/>\n<text text-anchor=\"start\" x=\"556.5\" y=\"-164.3\" font-family=\"Helvetica,sans-Serif\" font-size=\"14.00\">entropy = 0.0</text>\n<text text-anchor=\"start\" x=\"555.5\" y=\"-149.3\" font-family=\"Helvetica,sans-Serif\" font-size=\"14.00\">samples = 24</text>\n<text text-anchor=\"start\" x=\"534.5\" y=\"-134.3\" font-family=\"Helvetica,sans-Serif\" font-size=\"14.00\">value = [14.416, 0.0]</text>\n<text text-anchor=\"start\" x=\"562.5\" y=\"-119.3\" font-family=\"Helvetica,sans-Serif\" font-size=\"14.00\">class = NO</text>\n</g>\n<!-- 6&#45;&gt;8 -->\n<g id=\"edge8\" class=\"edge\">\n<title>6&#45;&gt;8</title>\n<path fill=\"none\" stroke=\"black\" d=\"M546.21,-222.91C553.62,-211.65 561.67,-199.42 569.12,-188.11\"/>\n<polygon fill=\"black\" stroke=\"black\" points=\"572.1,-189.94 574.67,-179.67 566.25,-186.1 572.1,-189.94\"/>\n</g>\n<!-- 10 -->\n<g id=\"node11\" class=\"node\">\n<title>10</title>\n<path fill=\"#f1bd97\" stroke=\"black\" d=\"M1058,-306C1058,-306 909,-306 909,-306 903,-306 897,-300 897,-294 897,-294 897,-235 897,-235 897,-229 903,-223 909,-223 909,-223 1058,-223 1058,-223 1064,-223 1070,-229 1070,-235 1070,-235 1070,-294 1070,-294 1070,-300 1064,-306 1058,-306\"/>\n<text text-anchor=\"start\" x=\"905\" y=\"-290.8\" font-family=\"Helvetica,sans-Serif\" font-size=\"14.00\">MonthlyIncome ≤ 13026.0</text>\n<text text-anchor=\"start\" x=\"936\" y=\"-275.8\" font-family=\"Helvetica,sans-Serif\" font-size=\"14.00\">entropy = 0.906</text>\n<text text-anchor=\"start\" x=\"938.5\" y=\"-260.8\" font-family=\"Helvetica,sans-Serif\" font-size=\"14.00\">samples = 597</text>\n<text text-anchor=\"start\" x=\"906.5\" y=\"-245.8\" font-family=\"Helvetica,sans-Serif\" font-size=\"14.00\">value = [327.36, 155.148]</text>\n<text text-anchor=\"start\" x=\"949.5\" y=\"-230.8\" font-family=\"Helvetica,sans-Serif\" font-size=\"14.00\">class = NO</text>\n</g>\n<!-- 9&#45;&gt;10 -->\n<g id=\"edge10\" class=\"edge\">\n<title>9&#45;&gt;10</title>\n<path fill=\"none\" stroke=\"black\" d=\"M1041.62,-341.91C1034.79,-332.92 1027.48,-323.32 1020.43,-314.05\"/>\n<polygon fill=\"black\" stroke=\"black\" points=\"1023.16,-311.86 1014.32,-306.02 1017.59,-316.1 1023.16,-311.86\"/>\n</g>\n<!-- 17 -->\n<g id=\"node18\" class=\"node\">\n<title>17</title>\n<path fill=\"#e78946\" stroke=\"black\" d=\"M1223,-306C1223,-306 1100,-306 1100,-306 1094,-306 1088,-300 1088,-294 1088,-294 1088,-235 1088,-235 1088,-229 1094,-223 1100,-223 1100,-223 1223,-223 1223,-223 1229,-223 1235,-229 1235,-235 1235,-235 1235,-294 1235,-294 1235,-300 1229,-306 1223,-306\"/>\n<text text-anchor=\"start\" x=\"1104\" y=\"-290.8\" font-family=\"Helvetica,sans-Serif\" font-size=\"14.00\">DailyRate ≤ 1182.0</text>\n<text text-anchor=\"start\" x=\"1114\" y=\"-275.8\" font-family=\"Helvetica,sans-Serif\" font-size=\"14.00\">entropy = 0.336</text>\n<text text-anchor=\"start\" x=\"1120.5\" y=\"-260.8\" font-family=\"Helvetica,sans-Serif\" font-size=\"14.00\">samples = 76</text>\n<text text-anchor=\"start\" x=\"1096\" y=\"-245.8\" font-family=\"Helvetica,sans-Serif\" font-size=\"14.00\">value = [45.05, 2.984]</text>\n<text text-anchor=\"start\" x=\"1127.5\" y=\"-230.8\" font-family=\"Helvetica,sans-Serif\" font-size=\"14.00\">class = NO</text>\n</g>\n<!-- 9&#45;&gt;17 -->\n<g id=\"edge17\" class=\"edge\">\n<title>9&#45;&gt;17</title>\n<path fill=\"none\" stroke=\"black\" d=\"M1103.38,-341.91C1110.21,-332.92 1117.52,-323.32 1124.57,-314.05\"/>\n<polygon fill=\"black\" stroke=\"black\" points=\"1127.41,-316.1 1130.68,-306.02 1121.84,-311.86 1127.41,-316.1\"/>\n</g>\n<!-- 11 -->\n<g id=\"node12\" class=\"node\">\n<title>11</title>\n<path fill=\"#f3c5a4\" stroke=\"black\" d=\"M868,-187C868,-187 697,-187 697,-187 691,-187 685,-181 685,-175 685,-175 685,-116 685,-116 685,-110 691,-104 697,-104 697,-104 868,-104 868,-104 874,-104 880,-110 880,-116 880,-116 880,-175 880,-175 880,-181 874,-187 868,-187\"/>\n<text text-anchor=\"start\" x=\"693\" y=\"-171.8\" font-family=\"Helvetica,sans-Serif\" font-size=\"14.00\">NumCompaniesWorked ≤ 4.5</text>\n<text text-anchor=\"start\" x=\"735\" y=\"-156.8\" font-family=\"Helvetica,sans-Serif\" font-size=\"14.00\">entropy = 0.935</text>\n<text text-anchor=\"start\" x=\"737.5\" y=\"-141.8\" font-family=\"Helvetica,sans-Serif\" font-size=\"14.00\">samples = 508</text>\n<text text-anchor=\"start\" x=\"705.5\" y=\"-126.8\" font-family=\"Helvetica,sans-Serif\" font-size=\"14.00\">value = [275.102, 149.18]</text>\n<text text-anchor=\"start\" x=\"748.5\" y=\"-111.8\" font-family=\"Helvetica,sans-Serif\" font-size=\"14.00\">class = NO</text>\n</g>\n<!-- 10&#45;&gt;11 -->\n<g id=\"edge11\" class=\"edge\">\n<title>10&#45;&gt;11</title>\n<path fill=\"none\" stroke=\"black\" d=\"M913.76,-222.91C896.77,-213.02 878.48,-202.37 861.1,-192.25\"/>\n<polygon fill=\"black\" stroke=\"black\" points=\"862.52,-189.03 852.11,-187.02 858.99,-195.08 862.52,-189.03\"/>\n</g>\n<!-- 14 -->\n<g id=\"node15\" class=\"node\">\n<title>14</title>\n<path fill=\"#e88f50\" stroke=\"black\" d=\"M1059,-187C1059,-187 910,-187 910,-187 904,-187 898,-181 898,-175 898,-175 898,-116 898,-116 898,-110 904,-104 910,-104 910,-104 1059,-104 1059,-104 1065,-104 1071,-110 1071,-116 1071,-116 1071,-175 1071,-175 1071,-181 1065,-187 1059,-187\"/>\n<text text-anchor=\"start\" x=\"906\" y=\"-171.8\" font-family=\"Helvetica,sans-Serif\" font-size=\"14.00\">MonthlyIncome ≤ 19196.0</text>\n<text text-anchor=\"start\" x=\"937\" y=\"-156.8\" font-family=\"Helvetica,sans-Serif\" font-size=\"14.00\">entropy = 0.477</text>\n<text text-anchor=\"start\" x=\"943.5\" y=\"-141.8\" font-family=\"Helvetica,sans-Serif\" font-size=\"14.00\">samples = 89</text>\n<text text-anchor=\"start\" x=\"915\" y=\"-126.8\" font-family=\"Helvetica,sans-Serif\" font-size=\"14.00\">value = [52.257, 5.967]</text>\n<text text-anchor=\"start\" x=\"950.5\" y=\"-111.8\" font-family=\"Helvetica,sans-Serif\" font-size=\"14.00\">class = NO</text>\n</g>\n<!-- 10&#45;&gt;14 -->\n<g id=\"edge14\" class=\"edge\">\n<title>10&#45;&gt;14</title>\n<path fill=\"none\" stroke=\"black\" d=\"M983.85,-222.91C983.92,-214.65 983.99,-205.86 984.07,-197.3\"/>\n<polygon fill=\"black\" stroke=\"black\" points=\"987.57,-197.05 984.15,-187.02 980.57,-196.99 987.57,-197.05\"/>\n</g>\n<!-- 12 -->\n<g id=\"node13\" class=\"node\">\n<title>12</title>\n<path fill=\"#f0b78d\" stroke=\"black\" d=\"M679.5,-68C679.5,-68 533.5,-68 533.5,-68 527.5,-68 521.5,-62 521.5,-56 521.5,-56 521.5,-12 521.5,-12 521.5,-6 527.5,0 533.5,0 533.5,0 679.5,0 679.5,0 685.5,0 691.5,-6 691.5,-12 691.5,-12 691.5,-56 691.5,-56 691.5,-62 685.5,-68 679.5,-68\"/>\n<text text-anchor=\"start\" x=\"562.5\" y=\"-52.8\" font-family=\"Helvetica,sans-Serif\" font-size=\"14.00\">entropy = 0.88</text>\n<text text-anchor=\"start\" x=\"561.5\" y=\"-37.8\" font-family=\"Helvetica,sans-Serif\" font-size=\"14.00\">samples = 405</text>\n<text text-anchor=\"start\" x=\"529.5\" y=\"-22.8\" font-family=\"Helvetica,sans-Serif\" font-size=\"14.00\">value = [224.046, 95.475]</text>\n<text text-anchor=\"start\" x=\"572.5\" y=\"-7.8\" font-family=\"Helvetica,sans-Serif\" font-size=\"14.00\">class = NO</text>\n</g>\n<!-- 11&#45;&gt;12 -->\n<g id=\"edge12\" class=\"edge\">\n<title>11&#45;&gt;12</title>\n<path fill=\"none\" stroke=\"black\" d=\"M716.96,-103.73C701.05,-93.82 684.08,-83.27 668.34,-73.48\"/>\n<polygon fill=\"black\" stroke=\"black\" points=\"670.08,-70.44 659.74,-68.13 666.38,-76.38 670.08,-70.44\"/>\n</g>\n<!-- 13 -->\n<g id=\"node14\" class=\"node\">\n<title>13</title>\n<path fill=\"#f5fafe\" stroke=\"black\" d=\"M859.5,-68C859.5,-68 721.5,-68 721.5,-68 715.5,-68 709.5,-62 709.5,-56 709.5,-56 709.5,-12 709.5,-12 709.5,-6 715.5,0 721.5,0 721.5,0 859.5,0 859.5,0 865.5,0 871.5,-6 871.5,-12 871.5,-12 871.5,-56 871.5,-56 871.5,-62 865.5,-68 859.5,-68\"/>\n<text text-anchor=\"start\" x=\"750.5\" y=\"-52.8\" font-family=\"Helvetica,sans-Serif\" font-size=\"14.00\">entropy = 1.0</text>\n<text text-anchor=\"start\" x=\"745.5\" y=\"-37.8\" font-family=\"Helvetica,sans-Serif\" font-size=\"14.00\">samples = 103</text>\n<text text-anchor=\"start\" x=\"717.5\" y=\"-22.8\" font-family=\"Helvetica,sans-Serif\" font-size=\"14.00\">value = [51.056, 53.705]</text>\n<text text-anchor=\"start\" x=\"753.5\" y=\"-7.8\" font-family=\"Helvetica,sans-Serif\" font-size=\"14.00\">class = YES</text>\n</g>\n<!-- 11&#45;&gt;13 -->\n<g id=\"edge13\" class=\"edge\">\n<title>11&#45;&gt;13</title>\n<path fill=\"none\" stroke=\"black\" d=\"M785.48,-103.73C786.09,-95.43 786.73,-86.67 787.34,-78.28\"/>\n<polygon fill=\"black\" stroke=\"black\" points=\"790.83,-78.53 788.07,-68.3 783.85,-78.02 790.83,-78.53\"/>\n</g>\n<!-- 15 -->\n<g id=\"node16\" class=\"node\">\n<title>15</title>\n<path fill=\"#e58139\" stroke=\"black\" d=\"M1026.5,-68C1026.5,-68 910.5,-68 910.5,-68 904.5,-68 898.5,-62 898.5,-56 898.5,-56 898.5,-12 898.5,-12 898.5,-6 904.5,0 910.5,0 910.5,0 1026.5,0 1026.5,0 1032.5,0 1038.5,-6 1038.5,-12 1038.5,-12 1038.5,-56 1038.5,-56 1038.5,-62 1032.5,-68 1026.5,-68\"/>\n<text text-anchor=\"start\" x=\"928.5\" y=\"-52.8\" font-family=\"Helvetica,sans-Serif\" font-size=\"14.00\">entropy = 0.0</text>\n<text text-anchor=\"start\" x=\"927.5\" y=\"-37.8\" font-family=\"Helvetica,sans-Serif\" font-size=\"14.00\">samples = 69</text>\n<text text-anchor=\"start\" x=\"906.5\" y=\"-22.8\" font-family=\"Helvetica,sans-Serif\" font-size=\"14.00\">value = [41.446, 0.0]</text>\n<text text-anchor=\"start\" x=\"934.5\" y=\"-7.8\" font-family=\"Helvetica,sans-Serif\" font-size=\"14.00\">class = NO</text>\n</g>\n<!-- 14&#45;&gt;15 -->\n<g id=\"edge15\" class=\"edge\">\n<title>14&#45;&gt;15</title>\n<path fill=\"none\" stroke=\"black\" d=\"M978.54,-103.73C977.33,-95.43 976.05,-86.67 974.82,-78.28\"/>\n<polygon fill=\"black\" stroke=\"black\" points=\"978.27,-77.69 973.37,-68.3 971.35,-78.7 978.27,-77.69\"/>\n</g>\n<!-- 16 -->\n<g id=\"node17\" class=\"node\">\n<title>16</title>\n<path fill=\"#f3c7a6\" stroke=\"black\" d=\"M1200,-68C1200,-68 1069,-68 1069,-68 1063,-68 1057,-62 1057,-56 1057,-56 1057,-12 1057,-12 1057,-6 1063,0 1069,0 1069,0 1200,0 1200,0 1206,0 1212,-6 1212,-12 1212,-12 1212,-56 1212,-56 1212,-62 1206,-68 1200,-68\"/>\n<text text-anchor=\"start\" x=\"1087\" y=\"-52.8\" font-family=\"Helvetica,sans-Serif\" font-size=\"14.00\">entropy = 0.939</text>\n<text text-anchor=\"start\" x=\"1093.5\" y=\"-37.8\" font-family=\"Helvetica,sans-Serif\" font-size=\"14.00\">samples = 20</text>\n<text text-anchor=\"start\" x=\"1065\" y=\"-22.8\" font-family=\"Helvetica,sans-Serif\" font-size=\"14.00\">value = [10.812, 5.967]</text>\n<text text-anchor=\"start\" x=\"1100.5\" y=\"-7.8\" font-family=\"Helvetica,sans-Serif\" font-size=\"14.00\">class = NO</text>\n</g>\n<!-- 14&#45;&gt;16 -->\n<g id=\"edge16\" class=\"edge\">\n<title>14&#45;&gt;16</title>\n<path fill=\"none\" stroke=\"black\" d=\"M1040.35,-103.73C1053.47,-94.15 1067.43,-83.96 1080.47,-74.44\"/>\n<polygon fill=\"black\" stroke=\"black\" points=\"1082.87,-77.02 1088.88,-68.3 1078.74,-71.37 1082.87,-77.02\"/>\n</g>\n<!-- 18 -->\n<g id=\"node19\" class=\"node\">\n<title>18</title>\n<path fill=\"#e58139\" stroke=\"black\" d=\"M1217.5,-179.5C1217.5,-179.5 1101.5,-179.5 1101.5,-179.5 1095.5,-179.5 1089.5,-173.5 1089.5,-167.5 1089.5,-167.5 1089.5,-123.5 1089.5,-123.5 1089.5,-117.5 1095.5,-111.5 1101.5,-111.5 1101.5,-111.5 1217.5,-111.5 1217.5,-111.5 1223.5,-111.5 1229.5,-117.5 1229.5,-123.5 1229.5,-123.5 1229.5,-167.5 1229.5,-167.5 1229.5,-173.5 1223.5,-179.5 1217.5,-179.5\"/>\n<text text-anchor=\"start\" x=\"1119.5\" y=\"-164.3\" font-family=\"Helvetica,sans-Serif\" font-size=\"14.00\">entropy = 0.0</text>\n<text text-anchor=\"start\" x=\"1118.5\" y=\"-149.3\" font-family=\"Helvetica,sans-Serif\" font-size=\"14.00\">samples = 56</text>\n<text text-anchor=\"start\" x=\"1097.5\" y=\"-134.3\" font-family=\"Helvetica,sans-Serif\" font-size=\"14.00\">value = [33.637, 0.0]</text>\n<text text-anchor=\"start\" x=\"1125.5\" y=\"-119.3\" font-family=\"Helvetica,sans-Serif\" font-size=\"14.00\">class = NO</text>\n</g>\n<!-- 17&#45;&gt;18 -->\n<g id=\"edge18\" class=\"edge\">\n<title>17&#45;&gt;18</title>\n<path fill=\"none\" stroke=\"black\" d=\"M1160.81,-222.91C1160.62,-212.2 1160.43,-200.62 1160.24,-189.78\"/>\n<polygon fill=\"black\" stroke=\"black\" points=\"1163.74,-189.61 1160.07,-179.67 1156.74,-189.73 1163.74,-189.61\"/>\n</g>\n<!-- 19 -->\n<g id=\"node20\" class=\"node\">\n<title>19</title>\n<path fill=\"#eca26d\" stroke=\"black\" d=\"M1391,-179.5C1391,-179.5 1260,-179.5 1260,-179.5 1254,-179.5 1248,-173.5 1248,-167.5 1248,-167.5 1248,-123.5 1248,-123.5 1248,-117.5 1254,-111.5 1260,-111.5 1260,-111.5 1391,-111.5 1391,-111.5 1397,-111.5 1403,-117.5 1403,-123.5 1403,-123.5 1403,-167.5 1403,-167.5 1403,-173.5 1397,-179.5 1391,-179.5\"/>\n<text text-anchor=\"start\" x=\"1278\" y=\"-164.3\" font-family=\"Helvetica,sans-Serif\" font-size=\"14.00\">entropy = 0.736</text>\n<text text-anchor=\"start\" x=\"1284.5\" y=\"-149.3\" font-family=\"Helvetica,sans-Serif\" font-size=\"14.00\">samples = 20</text>\n<text text-anchor=\"start\" x=\"1256\" y=\"-134.3\" font-family=\"Helvetica,sans-Serif\" font-size=\"14.00\">value = [11.413, 2.984]</text>\n<text text-anchor=\"start\" x=\"1291.5\" y=\"-119.3\" font-family=\"Helvetica,sans-Serif\" font-size=\"14.00\">class = NO</text>\n</g>\n<!-- 17&#45;&gt;19 -->\n<g id=\"edge19\" class=\"edge\">\n<title>17&#45;&gt;19</title>\n<path fill=\"none\" stroke=\"black\" d=\"M1218.4,-222.91C1235.26,-210.88 1253.68,-197.73 1270.43,-185.79\"/>\n<polygon fill=\"black\" stroke=\"black\" points=\"1272.9,-188.32 1279.01,-179.67 1268.84,-182.63 1272.9,-188.32\"/>\n</g>\n<!-- 21 -->\n<g id=\"node22\" class=\"node\">\n<title>21</title>\n<path fill=\"#ddeefa\" stroke=\"black\" d=\"M1953,-425C1953,-425 1774,-425 1774,-425 1768,-425 1762,-419 1762,-413 1762,-413 1762,-354 1762,-354 1762,-348 1768,-342 1774,-342 1774,-342 1953,-342 1953,-342 1959,-342 1965,-348 1965,-354 1965,-354 1965,-413 1965,-413 1965,-419 1959,-425 1953,-425\"/>\n<text text-anchor=\"start\" x=\"1770\" y=\"-409.8\" font-family=\"Helvetica,sans-Serif\" font-size=\"14.00\">JobRole_Sales Executive ≤ 0.5</text>\n<text text-anchor=\"start\" x=\"1816\" y=\"-394.8\" font-family=\"Helvetica,sans-Serif\" font-size=\"14.00\">entropy = 0.993</text>\n<text text-anchor=\"start\" x=\"1818.5\" y=\"-379.8\" font-family=\"Helvetica,sans-Serif\" font-size=\"14.00\">samples = 199</text>\n<text text-anchor=\"start\" x=\"1786.5\" y=\"-364.8\" font-family=\"Helvetica,sans-Serif\" font-size=\"14.00\">value = [96.106, 116.361]</text>\n<text text-anchor=\"start\" x=\"1826.5\" y=\"-349.8\" font-family=\"Helvetica,sans-Serif\" font-size=\"14.00\">class = YES</text>\n</g>\n<!-- 20&#45;&gt;21 -->\n<g id=\"edge21\" class=\"edge\">\n<title>20&#45;&gt;21</title>\n<path fill=\"none\" stroke=\"black\" d=\"M1863.5,-460.91C1863.5,-452.65 1863.5,-443.86 1863.5,-435.3\"/>\n<polygon fill=\"black\" stroke=\"black\" points=\"1867,-435.02 1863.5,-425.02 1860,-435.02 1867,-435.02\"/>\n</g>\n<!-- 34 -->\n<g id=\"node35\" class=\"node\">\n<title>34</title>\n<path fill=\"#5aade9\" stroke=\"black\" d=\"M2484.5,-425C2484.5,-425 2338.5,-425 2338.5,-425 2332.5,-425 2326.5,-419 2326.5,-413 2326.5,-413 2326.5,-354 2326.5,-354 2326.5,-348 2332.5,-342 2338.5,-342 2338.5,-342 2484.5,-342 2484.5,-342 2490.5,-342 2496.5,-348 2496.5,-354 2496.5,-354 2496.5,-413 2496.5,-413 2496.5,-419 2490.5,-425 2484.5,-425\"/>\n<text text-anchor=\"start\" x=\"2336.5\" y=\"-409.8\" font-family=\"Helvetica,sans-Serif\" font-size=\"14.00\">MonthlyIncome ≤ 2458.5</text>\n<text text-anchor=\"start\" x=\"2364\" y=\"-394.8\" font-family=\"Helvetica,sans-Serif\" font-size=\"14.00\">entropy = 0.591</text>\n<text text-anchor=\"start\" x=\"2366.5\" y=\"-379.8\" font-family=\"Helvetica,sans-Serif\" font-size=\"14.00\">samples = 115</text>\n<text text-anchor=\"start\" x=\"2334.5\" y=\"-364.8\" font-family=\"Helvetica,sans-Serif\" font-size=\"14.00\">value = [31.234, 187.967]</text>\n<text text-anchor=\"start\" x=\"2374.5\" y=\"-349.8\" font-family=\"Helvetica,sans-Serif\" font-size=\"14.00\">class = YES</text>\n</g>\n<!-- 20&#45;&gt;34 -->\n<g id=\"edge34\" class=\"edge\">\n<title>20&#45;&gt;34</title>\n<path fill=\"none\" stroke=\"black\" d=\"M1948.52,-483.35C2048.13,-462.08 2212.69,-426.95 2316.43,-404.8\"/>\n<polygon fill=\"black\" stroke=\"black\" points=\"2317.23,-408.21 2326.28,-402.7 2315.77,-401.36 2317.23,-408.21\"/>\n</g>\n<!-- 22 -->\n<g id=\"node23\" class=\"node\">\n<title>22</title>\n<path fill=\"#f4caab\" stroke=\"black\" d=\"M1839.5,-306C1839.5,-306 1701.5,-306 1701.5,-306 1695.5,-306 1689.5,-300 1689.5,-294 1689.5,-294 1689.5,-235 1689.5,-235 1689.5,-229 1695.5,-223 1701.5,-223 1701.5,-223 1839.5,-223 1839.5,-223 1845.5,-223 1851.5,-229 1851.5,-235 1851.5,-235 1851.5,-294 1851.5,-294 1851.5,-300 1845.5,-306 1839.5,-306\"/>\n<text text-anchor=\"start\" x=\"1707.5\" y=\"-290.8\" font-family=\"Helvetica,sans-Serif\" font-size=\"14.00\">JobSatisfaction ≤ 3.5</text>\n<text text-anchor=\"start\" x=\"1723\" y=\"-275.8\" font-family=\"Helvetica,sans-Serif\" font-size=\"14.00\">entropy = 0.947</text>\n<text text-anchor=\"start\" x=\"1725.5\" y=\"-260.8\" font-family=\"Helvetica,sans-Serif\" font-size=\"14.00\">samples = 125</text>\n<text text-anchor=\"start\" x=\"1697.5\" y=\"-245.8\" font-family=\"Helvetica,sans-Serif\" font-size=\"14.00\">value = [67.274, 38.787]</text>\n<text text-anchor=\"start\" x=\"1736.5\" y=\"-230.8\" font-family=\"Helvetica,sans-Serif\" font-size=\"14.00\">class = NO</text>\n</g>\n<!-- 21&#45;&gt;22 -->\n<g id=\"edge22\" class=\"edge\">\n<title>21&#45;&gt;22</title>\n<path fill=\"none\" stroke=\"black\" d=\"M1831.23,-341.91C1824.09,-332.92 1816.46,-323.32 1809.09,-314.05\"/>\n<polygon fill=\"black\" stroke=\"black\" points=\"1811.67,-311.67 1802.71,-306.02 1806.19,-316.03 1811.67,-311.67\"/>\n</g>\n<!-- 29 -->\n<g id=\"node30\" class=\"node\">\n<title>29</title>\n<path fill=\"#83c1ef\" stroke=\"black\" d=\"M2061,-306C2061,-306 1910,-306 1910,-306 1904,-306 1898,-300 1898,-294 1898,-294 1898,-235 1898,-235 1898,-229 1904,-223 1910,-223 1910,-223 2061,-223 2061,-223 2067,-223 2073,-229 2073,-235 2073,-235 2073,-294 2073,-294 2073,-300 2067,-306 2061,-306\"/>\n<text text-anchor=\"start\" x=\"1906\" y=\"-290.8\" font-family=\"Helvetica,sans-Serif\" font-size=\"14.00\">MaritalStatus_Single ≤ 0.5</text>\n<text text-anchor=\"start\" x=\"1938\" y=\"-275.8\" font-family=\"Helvetica,sans-Serif\" font-size=\"14.00\">entropy = 0.843</text>\n<text text-anchor=\"start\" x=\"1944.5\" y=\"-260.8\" font-family=\"Helvetica,sans-Serif\" font-size=\"14.00\">samples = 74</text>\n<text text-anchor=\"start\" x=\"1912.5\" y=\"-245.8\" font-family=\"Helvetica,sans-Serif\" font-size=\"14.00\">value = [28.832, 77.574]</text>\n<text text-anchor=\"start\" x=\"1948.5\" y=\"-230.8\" font-family=\"Helvetica,sans-Serif\" font-size=\"14.00\">class = YES</text>\n</g>\n<!-- 21&#45;&gt;29 -->\n<g id=\"edge29\" class=\"edge\">\n<title>21&#45;&gt;29</title>\n<path fill=\"none\" stroke=\"black\" d=\"M1905.83,-341.91C1915.48,-332.65 1925.82,-322.73 1935.75,-313.21\"/>\n<polygon fill=\"black\" stroke=\"black\" points=\"1938.45,-315.47 1943.25,-306.02 1933.61,-310.42 1938.45,-315.47\"/>\n</g>\n<!-- 23 -->\n<g id=\"node24\" class=\"node\">\n<title>23</title>\n<path fill=\"#fbebdf\" stroke=\"black\" d=\"M1606,-187C1606,-187 1433,-187 1433,-187 1427,-187 1421,-181 1421,-175 1421,-175 1421,-116 1421,-116 1421,-110 1427,-104 1433,-104 1433,-104 1606,-104 1606,-104 1612,-104 1618,-110 1618,-116 1618,-116 1618,-175 1618,-175 1618,-181 1612,-187 1606,-187\"/>\n<text text-anchor=\"start\" x=\"1429\" y=\"-171.8\" font-family=\"Helvetica,sans-Serif\" font-size=\"14.00\">EnvironmentSatisfaction ≤ 2.5</text>\n<text text-anchor=\"start\" x=\"1472\" y=\"-156.8\" font-family=\"Helvetica,sans-Serif\" font-size=\"14.00\">entropy = 0.995</text>\n<text text-anchor=\"start\" x=\"1478.5\" y=\"-141.8\" font-family=\"Helvetica,sans-Serif\" font-size=\"14.00\">samples = 83</text>\n<text text-anchor=\"start\" x=\"1446.5\" y=\"-126.8\" font-family=\"Helvetica,sans-Serif\" font-size=\"14.00\">value = [42.647, 35.803]</text>\n<text text-anchor=\"start\" x=\"1485.5\" y=\"-111.8\" font-family=\"Helvetica,sans-Serif\" font-size=\"14.00\">class = NO</text>\n</g>\n<!-- 22&#45;&gt;23 -->\n<g id=\"edge23\" class=\"edge\">\n<title>22&#45;&gt;23</title>\n<path fill=\"none\" stroke=\"black\" d=\"M1689.35,-225.68C1665.86,-214.72 1639.98,-202.66 1615.66,-191.33\"/>\n<polygon fill=\"black\" stroke=\"black\" points=\"1616.97,-188.07 1606.43,-187.02 1614.01,-194.42 1616.97,-188.07\"/>\n</g>\n<!-- 26 -->\n<g id=\"node27\" class=\"node\">\n<title>26</title>\n<path fill=\"#e89051\" stroke=\"black\" d=\"M1836.5,-187C1836.5,-187 1704.5,-187 1704.5,-187 1698.5,-187 1692.5,-181 1692.5,-175 1692.5,-175 1692.5,-116 1692.5,-116 1692.5,-110 1698.5,-104 1704.5,-104 1704.5,-104 1836.5,-104 1836.5,-104 1842.5,-104 1848.5,-110 1848.5,-116 1848.5,-116 1848.5,-175 1848.5,-175 1848.5,-181 1842.5,-187 1836.5,-187\"/>\n<text text-anchor=\"start\" x=\"1700.5\" y=\"-171.8\" font-family=\"Helvetica,sans-Serif\" font-size=\"14.00\">YearsAtCompany ≤ 8.5</text>\n<text text-anchor=\"start\" x=\"1723\" y=\"-156.8\" font-family=\"Helvetica,sans-Serif\" font-size=\"14.00\">entropy = 0.494</text>\n<text text-anchor=\"start\" x=\"1729.5\" y=\"-141.8\" font-family=\"Helvetica,sans-Serif\" font-size=\"14.00\">samples = 42</text>\n<text text-anchor=\"start\" x=\"1701\" y=\"-126.8\" font-family=\"Helvetica,sans-Serif\" font-size=\"14.00\">value = [24.627, 2.984]</text>\n<text text-anchor=\"start\" x=\"1736.5\" y=\"-111.8\" font-family=\"Helvetica,sans-Serif\" font-size=\"14.00\">class = NO</text>\n</g>\n<!-- 22&#45;&gt;26 -->\n<g id=\"edge26\" class=\"edge\">\n<title>22&#45;&gt;26</title>\n<path fill=\"none\" stroke=\"black\" d=\"M1770.5,-222.91C1770.5,-214.65 1770.5,-205.86 1770.5,-197.3\"/>\n<polygon fill=\"black\" stroke=\"black\" points=\"1774,-197.02 1770.5,-187.02 1767,-197.02 1774,-197.02\"/>\n</g>\n<!-- 24 -->\n<g id=\"node25\" class=\"node\">\n<title>24</title>\n<path fill=\"#9dcef2\" stroke=\"black\" d=\"M1394.5,-68C1394.5,-68 1256.5,-68 1256.5,-68 1250.5,-68 1244.5,-62 1244.5,-56 1244.5,-56 1244.5,-12 1244.5,-12 1244.5,-6 1250.5,0 1256.5,0 1256.5,0 1394.5,0 1394.5,0 1400.5,0 1406.5,-6 1406.5,-12 1406.5,-12 1406.5,-56 1406.5,-56 1406.5,-62 1400.5,-68 1394.5,-68\"/>\n<text text-anchor=\"start\" x=\"1281.5\" y=\"-52.8\" font-family=\"Helvetica,sans-Serif\" font-size=\"14.00\">entropy = 0.92</text>\n<text text-anchor=\"start\" x=\"1284.5\" y=\"-37.8\" font-family=\"Helvetica,sans-Serif\" font-size=\"14.00\">samples = 28</text>\n<text text-anchor=\"start\" x=\"1252.5\" y=\"-22.8\" font-family=\"Helvetica,sans-Serif\" font-size=\"14.00\">value = [12.013, 23.869]</text>\n<text text-anchor=\"start\" x=\"1288.5\" y=\"-7.8\" font-family=\"Helvetica,sans-Serif\" font-size=\"14.00\">class = YES</text>\n</g>\n<!-- 23&#45;&gt;24 -->\n<g id=\"edge24\" class=\"edge\">\n<title>23&#45;&gt;24</title>\n<path fill=\"none\" stroke=\"black\" d=\"M1447.54,-103.88C1429.72,-93.83 1410.7,-83.09 1393.1,-73.16\"/>\n<polygon fill=\"black\" stroke=\"black\" points=\"1394.47,-69.91 1384.04,-68.04 1391.03,-76.01 1394.47,-69.91\"/>\n</g>\n<!-- 25 -->\n<g id=\"node26\" class=\"node\">\n<title>25</title>\n<path fill=\"#efb286\" stroke=\"black\" d=\"M1574.5,-68C1574.5,-68 1436.5,-68 1436.5,-68 1430.5,-68 1424.5,-62 1424.5,-56 1424.5,-56 1424.5,-12 1424.5,-12 1424.5,-6 1430.5,0 1436.5,0 1436.5,0 1574.5,0 1574.5,0 1580.5,0 1586.5,-6 1586.5,-12 1586.5,-12 1586.5,-56 1586.5,-56 1586.5,-62 1580.5,-68 1574.5,-68\"/>\n<text text-anchor=\"start\" x=\"1458\" y=\"-52.8\" font-family=\"Helvetica,sans-Serif\" font-size=\"14.00\">entropy = 0.856</text>\n<text text-anchor=\"start\" x=\"1464.5\" y=\"-37.8\" font-family=\"Helvetica,sans-Serif\" font-size=\"14.00\">samples = 55</text>\n<text text-anchor=\"start\" x=\"1432.5\" y=\"-22.8\" font-family=\"Helvetica,sans-Serif\" font-size=\"14.00\">value = [30.634, 11.934]</text>\n<text text-anchor=\"start\" x=\"1471.5\" y=\"-7.8\" font-family=\"Helvetica,sans-Serif\" font-size=\"14.00\">class = NO</text>\n</g>\n<!-- 23&#45;&gt;25 -->\n<g id=\"edge25\" class=\"edge\">\n<title>23&#45;&gt;25</title>\n<path fill=\"none\" stroke=\"black\" d=\"M1514.29,-103.73C1513.23,-95.43 1512.11,-86.67 1511.03,-78.28\"/>\n<polygon fill=\"black\" stroke=\"black\" points=\"1514.5,-77.77 1509.76,-68.3 1507.55,-78.66 1514.5,-77.77\"/>\n</g>\n<!-- 27 -->\n<g id=\"node28\" class=\"node\">\n<title>27</title>\n<path fill=\"#eca26d\" stroke=\"black\" d=\"M1748,-68C1748,-68 1617,-68 1617,-68 1611,-68 1605,-62 1605,-56 1605,-56 1605,-12 1605,-12 1605,-6 1611,0 1617,0 1617,0 1748,0 1748,0 1754,0 1760,-6 1760,-12 1760,-12 1760,-56 1760,-56 1760,-62 1754,-68 1748,-68\"/>\n<text text-anchor=\"start\" x=\"1635\" y=\"-52.8\" font-family=\"Helvetica,sans-Serif\" font-size=\"14.00\">entropy = 0.736</text>\n<text text-anchor=\"start\" x=\"1641.5\" y=\"-37.8\" font-family=\"Helvetica,sans-Serif\" font-size=\"14.00\">samples = 20</text>\n<text text-anchor=\"start\" x=\"1613\" y=\"-22.8\" font-family=\"Helvetica,sans-Serif\" font-size=\"14.00\">value = [11.413, 2.984]</text>\n<text text-anchor=\"start\" x=\"1648.5\" y=\"-7.8\" font-family=\"Helvetica,sans-Serif\" font-size=\"14.00\">class = NO</text>\n</g>\n<!-- 26&#45;&gt;27 -->\n<g id=\"edge27\" class=\"edge\">\n<title>26&#45;&gt;27</title>\n<path fill=\"none\" stroke=\"black\" d=\"M1737.73,-103.73C1730.55,-94.79 1722.94,-85.32 1715.74,-76.36\"/>\n<polygon fill=\"black\" stroke=\"black\" points=\"1718.25,-73.9 1709.26,-68.3 1712.8,-78.29 1718.25,-73.9\"/>\n</g>\n<!-- 28 -->\n<g id=\"node29\" class=\"node\">\n<title>28</title>\n<path fill=\"#e58139\" stroke=\"black\" d=\"M1906.5,-68C1906.5,-68 1790.5,-68 1790.5,-68 1784.5,-68 1778.5,-62 1778.5,-56 1778.5,-56 1778.5,-12 1778.5,-12 1778.5,-6 1784.5,0 1790.5,0 1790.5,0 1906.5,0 1906.5,0 1912.5,0 1918.5,-6 1918.5,-12 1918.5,-12 1918.5,-56 1918.5,-56 1918.5,-62 1912.5,-68 1906.5,-68\"/>\n<text text-anchor=\"start\" x=\"1808.5\" y=\"-52.8\" font-family=\"Helvetica,sans-Serif\" font-size=\"14.00\">entropy = 0.0</text>\n<text text-anchor=\"start\" x=\"1807.5\" y=\"-37.8\" font-family=\"Helvetica,sans-Serif\" font-size=\"14.00\">samples = 22</text>\n<text text-anchor=\"start\" x=\"1786.5\" y=\"-22.8\" font-family=\"Helvetica,sans-Serif\" font-size=\"14.00\">value = [13.215, 0.0]</text>\n<text text-anchor=\"start\" x=\"1814.5\" y=\"-7.8\" font-family=\"Helvetica,sans-Serif\" font-size=\"14.00\">class = NO</text>\n</g>\n<!-- 26&#45;&gt;28 -->\n<g id=\"edge28\" class=\"edge\">\n<title>26&#45;&gt;28</title>\n<path fill=\"none\" stroke=\"black\" d=\"M1799.54,-103.73C1805.85,-94.88 1812.52,-85.51 1818.85,-76.63\"/>\n<polygon fill=\"black\" stroke=\"black\" points=\"1821.83,-78.48 1824.78,-68.3 1816.13,-74.41 1821.83,-78.48\"/>\n</g>\n<!-- 30 -->\n<g id=\"node31\" class=\"node\">\n<title>30</title>\n<path fill=\"#eaf5fc\" stroke=\"black\" d=\"M2054.5,-187C2054.5,-187 1916.5,-187 1916.5,-187 1910.5,-187 1904.5,-181 1904.5,-175 1904.5,-175 1904.5,-116 1904.5,-116 1904.5,-110 1910.5,-104 1916.5,-104 1916.5,-104 2054.5,-104 2054.5,-104 2060.5,-104 2066.5,-110 2066.5,-116 2066.5,-116 2066.5,-175 2066.5,-175 2066.5,-181 2060.5,-187 2054.5,-187\"/>\n<text text-anchor=\"start\" x=\"1915\" y=\"-171.8\" font-family=\"Helvetica,sans-Serif\" font-size=\"14.00\">MonthlyRate ≤ 16540.5</text>\n<text text-anchor=\"start\" x=\"1938\" y=\"-156.8\" font-family=\"Helvetica,sans-Serif\" font-size=\"14.00\">entropy = 0.998</text>\n<text text-anchor=\"start\" x=\"1944.5\" y=\"-141.8\" font-family=\"Helvetica,sans-Serif\" font-size=\"14.00\">samples = 49</text>\n<text text-anchor=\"start\" x=\"1912.5\" y=\"-126.8\" font-family=\"Helvetica,sans-Serif\" font-size=\"14.00\">value = [24.026, 26.852]</text>\n<text text-anchor=\"start\" x=\"1948.5\" y=\"-111.8\" font-family=\"Helvetica,sans-Serif\" font-size=\"14.00\">class = YES</text>\n</g>\n<!-- 29&#45;&gt;30 -->\n<g id=\"edge30\" class=\"edge\">\n<title>29&#45;&gt;30</title>\n<path fill=\"none\" stroke=\"black\" d=\"M1985.5,-222.91C1985.5,-214.65 1985.5,-205.86 1985.5,-197.3\"/>\n<polygon fill=\"black\" stroke=\"black\" points=\"1989,-197.02 1985.5,-187.02 1982,-197.02 1989,-197.02\"/>\n</g>\n<!-- 33 -->\n<g id=\"node34\" class=\"node\">\n<title>33</title>\n<path fill=\"#4ca6e7\" stroke=\"black\" d=\"M2228,-179.5C2228,-179.5 2097,-179.5 2097,-179.5 2091,-179.5 2085,-173.5 2085,-167.5 2085,-167.5 2085,-123.5 2085,-123.5 2085,-117.5 2091,-111.5 2097,-111.5 2097,-111.5 2228,-111.5 2228,-111.5 2234,-111.5 2240,-117.5 2240,-123.5 2240,-123.5 2240,-167.5 2240,-167.5 2240,-173.5 2234,-179.5 2228,-179.5\"/>\n<text text-anchor=\"start\" x=\"2115\" y=\"-164.3\" font-family=\"Helvetica,sans-Serif\" font-size=\"14.00\">entropy = 0.425</text>\n<text text-anchor=\"start\" x=\"2121.5\" y=\"-149.3\" font-family=\"Helvetica,sans-Serif\" font-size=\"14.00\">samples = 25</text>\n<text text-anchor=\"start\" x=\"2093\" y=\"-134.3\" font-family=\"Helvetica,sans-Serif\" font-size=\"14.00\">value = [4.805, 50.721]</text>\n<text text-anchor=\"start\" x=\"2125.5\" y=\"-119.3\" font-family=\"Helvetica,sans-Serif\" font-size=\"14.00\">class = YES</text>\n</g>\n<!-- 29&#45;&gt;33 -->\n<g id=\"edge33\" class=\"edge\">\n<title>29&#45;&gt;33</title>\n<path fill=\"none\" stroke=\"black\" d=\"M2046.91,-222.91C2065.27,-210.77 2085.36,-197.49 2103.56,-185.46\"/>\n<polygon fill=\"black\" stroke=\"black\" points=\"2105.91,-188.1 2112.32,-179.67 2102.05,-182.26 2105.91,-188.1\"/>\n</g>\n<!-- 31 -->\n<g id=\"node32\" class=\"node\">\n<title>31</title>\n<path fill=\"#f0b78f\" stroke=\"black\" d=\"M2080,-68C2080,-68 1949,-68 1949,-68 1943,-68 1937,-62 1937,-56 1937,-56 1937,-12 1937,-12 1937,-6 1943,0 1949,0 1949,0 2080,0 2080,0 2086,0 2092,-6 2092,-12 2092,-12 2092,-56 2092,-56 2092,-62 2086,-68 2080,-68\"/>\n<text text-anchor=\"start\" x=\"1967\" y=\"-52.8\" font-family=\"Helvetica,sans-Serif\" font-size=\"14.00\">entropy = 0.883</text>\n<text text-anchor=\"start\" x=\"1973.5\" y=\"-37.8\" font-family=\"Helvetica,sans-Serif\" font-size=\"14.00\">samples = 25</text>\n<text text-anchor=\"start\" x=\"1945\" y=\"-22.8\" font-family=\"Helvetica,sans-Serif\" font-size=\"14.00\">value = [13.815, 5.967]</text>\n<text text-anchor=\"start\" x=\"1980.5\" y=\"-7.8\" font-family=\"Helvetica,sans-Serif\" font-size=\"14.00\">class = NO</text>\n</g>\n<!-- 30&#45;&gt;31 -->\n<g id=\"edge31\" class=\"edge\">\n<title>30&#45;&gt;31</title>\n<path fill=\"none\" stroke=\"black\" d=\"M1996.3,-103.73C1998.52,-95.34 2000.87,-86.47 2003.11,-78.01\"/>\n<polygon fill=\"black\" stroke=\"black\" points=\"2006.5,-78.86 2005.68,-68.3 1999.74,-77.07 2006.5,-78.86\"/>\n</g>\n<!-- 32 -->\n<g id=\"node33\" class=\"node\">\n<title>32</title>\n<path fill=\"#9acdf2\" stroke=\"black\" d=\"M2260.5,-68C2260.5,-68 2122.5,-68 2122.5,-68 2116.5,-68 2110.5,-62 2110.5,-56 2110.5,-56 2110.5,-12 2110.5,-12 2110.5,-6 2116.5,0 2122.5,0 2122.5,0 2260.5,0 2260.5,0 2266.5,0 2272.5,-6 2272.5,-12 2272.5,-12 2272.5,-56 2272.5,-56 2272.5,-62 2266.5,-68 2260.5,-68\"/>\n<text text-anchor=\"start\" x=\"2144\" y=\"-52.8\" font-family=\"Helvetica,sans-Serif\" font-size=\"14.00\">entropy = 0.913</text>\n<text text-anchor=\"start\" x=\"2150.5\" y=\"-37.8\" font-family=\"Helvetica,sans-Serif\" font-size=\"14.00\">samples = 24</text>\n<text text-anchor=\"start\" x=\"2118.5\" y=\"-22.8\" font-family=\"Helvetica,sans-Serif\" font-size=\"14.00\">value = [10.211, 20.885]</text>\n<text text-anchor=\"start\" x=\"2154.5\" y=\"-7.8\" font-family=\"Helvetica,sans-Serif\" font-size=\"14.00\">class = YES</text>\n</g>\n<!-- 30&#45;&gt;32 -->\n<g id=\"edge32\" class=\"edge\">\n<title>30&#45;&gt;32</title>\n<path fill=\"none\" stroke=\"black\" d=\"M2061.91,-103.88C2081.09,-93.69 2101.59,-82.79 2120.49,-72.75\"/>\n<polygon fill=\"black\" stroke=\"black\" points=\"2122.15,-75.83 2129.34,-68.04 2118.86,-69.65 2122.15,-75.83\"/>\n</g>\n<!-- 35 -->\n<g id=\"node36\" class=\"node\">\n<title>35</title>\n<path fill=\"#44a2e6\" stroke=\"black\" d=\"M2477,-306C2477,-306 2346,-306 2346,-306 2340,-306 2334,-300 2334,-294 2334,-294 2334,-235 2334,-235 2334,-229 2340,-223 2346,-223 2346,-223 2477,-223 2477,-223 2483,-223 2489,-229 2489,-235 2489,-235 2489,-294 2489,-294 2489,-300 2483,-306 2477,-306\"/>\n<text text-anchor=\"start\" x=\"2357.5\" y=\"-290.8\" font-family=\"Helvetica,sans-Serif\" font-size=\"14.00\">DailyRate ≤ 786.0</text>\n<text text-anchor=\"start\" x=\"2364\" y=\"-275.8\" font-family=\"Helvetica,sans-Serif\" font-size=\"14.00\">entropy = 0.299</text>\n<text text-anchor=\"start\" x=\"2370.5\" y=\"-260.8\" font-family=\"Helvetica,sans-Serif\" font-size=\"14.00\">samples = 46</text>\n<text text-anchor=\"start\" x=\"2342\" y=\"-245.8\" font-family=\"Helvetica,sans-Serif\" font-size=\"14.00\">value = [6.007, 107.41]</text>\n<text text-anchor=\"start\" x=\"2374.5\" y=\"-230.8\" font-family=\"Helvetica,sans-Serif\" font-size=\"14.00\">class = YES</text>\n</g>\n<!-- 34&#45;&gt;35 -->\n<g id=\"edge35\" class=\"edge\">\n<title>34&#45;&gt;35</title>\n<path fill=\"none\" stroke=\"black\" d=\"M2411.5,-341.91C2411.5,-333.65 2411.5,-324.86 2411.5,-316.3\"/>\n<polygon fill=\"black\" stroke=\"black\" points=\"2415,-316.02 2411.5,-306.02 2408,-316.02 2415,-316.02\"/>\n</g>\n<!-- 38 -->\n<g id=\"node39\" class=\"node\">\n<title>38</title>\n<path fill=\"#77bced\" stroke=\"black\" d=\"M2744.5,-306C2744.5,-306 2606.5,-306 2606.5,-306 2600.5,-306 2594.5,-300 2594.5,-294 2594.5,-294 2594.5,-235 2594.5,-235 2594.5,-229 2600.5,-223 2606.5,-223 2606.5,-223 2744.5,-223 2744.5,-223 2750.5,-223 2756.5,-229 2756.5,-235 2756.5,-235 2756.5,-294 2756.5,-294 2756.5,-300 2750.5,-306 2744.5,-306\"/>\n<text text-anchor=\"start\" x=\"2605\" y=\"-290.8\" font-family=\"Helvetica,sans-Serif\" font-size=\"14.00\">MonthlyRate ≤ 16605.5</text>\n<text text-anchor=\"start\" x=\"2628\" y=\"-275.8\" font-family=\"Helvetica,sans-Serif\" font-size=\"14.00\">entropy = 0.793</text>\n<text text-anchor=\"start\" x=\"2634.5\" y=\"-260.8\" font-family=\"Helvetica,sans-Serif\" font-size=\"14.00\">samples = 69</text>\n<text text-anchor=\"start\" x=\"2602.5\" y=\"-245.8\" font-family=\"Helvetica,sans-Serif\" font-size=\"14.00\">value = [25.228, 80.557]</text>\n<text text-anchor=\"start\" x=\"2638.5\" y=\"-230.8\" font-family=\"Helvetica,sans-Serif\" font-size=\"14.00\">class = YES</text>\n</g>\n<!-- 34&#45;&gt;38 -->\n<g id=\"edge38\" class=\"edge\">\n<title>34&#45;&gt;38</title>\n<path fill=\"none\" stroke=\"black\" d=\"M2496.85,-344.68C2525.12,-332.14 2556.68,-318.16 2585.3,-305.47\"/>\n<polygon fill=\"black\" stroke=\"black\" points=\"2586.76,-308.66 2594.49,-301.4 2583.93,-302.26 2586.76,-308.66\"/>\n</g>\n<!-- 36 -->\n<g id=\"node37\" class=\"node\">\n<title>36</title>\n<path fill=\"#399de5\" stroke=\"black\" d=\"M2386.5,-179.5C2386.5,-179.5 2270.5,-179.5 2270.5,-179.5 2264.5,-179.5 2258.5,-173.5 2258.5,-167.5 2258.5,-167.5 2258.5,-123.5 2258.5,-123.5 2258.5,-117.5 2264.5,-111.5 2270.5,-111.5 2270.5,-111.5 2386.5,-111.5 2386.5,-111.5 2392.5,-111.5 2398.5,-117.5 2398.5,-123.5 2398.5,-123.5 2398.5,-167.5 2398.5,-167.5 2398.5,-173.5 2392.5,-179.5 2386.5,-179.5\"/>\n<text text-anchor=\"start\" x=\"2288.5\" y=\"-164.3\" font-family=\"Helvetica,sans-Serif\" font-size=\"14.00\">entropy = 0.0</text>\n<text text-anchor=\"start\" x=\"2287.5\" y=\"-149.3\" font-family=\"Helvetica,sans-Serif\" font-size=\"14.00\">samples = 21</text>\n<text text-anchor=\"start\" x=\"2266.5\" y=\"-134.3\" font-family=\"Helvetica,sans-Serif\" font-size=\"14.00\">value = [0.0, 62.656]</text>\n<text text-anchor=\"start\" x=\"2291.5\" y=\"-119.3\" font-family=\"Helvetica,sans-Serif\" font-size=\"14.00\">class = YES</text>\n</g>\n<!-- 35&#45;&gt;36 -->\n<g id=\"edge36\" class=\"edge\">\n<title>35&#45;&gt;36</title>\n<path fill=\"none\" stroke=\"black\" d=\"M2382.7,-222.91C2374.72,-211.65 2366.04,-199.42 2358.02,-188.11\"/>\n<polygon fill=\"black\" stroke=\"black\" points=\"2360.67,-185.8 2352.03,-179.67 2354.96,-189.85 2360.67,-185.8\"/>\n</g>\n<!-- 37 -->\n<g id=\"node38\" class=\"node\">\n<title>37</title>\n<path fill=\"#54aae8\" stroke=\"black\" d=\"M2560,-179.5C2560,-179.5 2429,-179.5 2429,-179.5 2423,-179.5 2417,-173.5 2417,-167.5 2417,-167.5 2417,-123.5 2417,-123.5 2417,-117.5 2423,-111.5 2429,-111.5 2429,-111.5 2560,-111.5 2560,-111.5 2566,-111.5 2572,-117.5 2572,-123.5 2572,-123.5 2572,-167.5 2572,-167.5 2572,-173.5 2566,-179.5 2560,-179.5\"/>\n<text text-anchor=\"start\" x=\"2447\" y=\"-164.3\" font-family=\"Helvetica,sans-Serif\" font-size=\"14.00\">entropy = 0.525</text>\n<text text-anchor=\"start\" x=\"2453.5\" y=\"-149.3\" font-family=\"Helvetica,sans-Serif\" font-size=\"14.00\">samples = 25</text>\n<text text-anchor=\"start\" x=\"2425\" y=\"-134.3\" font-family=\"Helvetica,sans-Serif\" font-size=\"14.00\">value = [6.007, 44.754]</text>\n<text text-anchor=\"start\" x=\"2457.5\" y=\"-119.3\" font-family=\"Helvetica,sans-Serif\" font-size=\"14.00\">class = YES</text>\n</g>\n<!-- 35&#45;&gt;37 -->\n<g id=\"edge37\" class=\"edge\">\n<title>35&#45;&gt;37</title>\n<path fill=\"none\" stroke=\"black\" d=\"M2440.3,-222.91C2448.28,-211.65 2456.96,-199.42 2464.98,-188.11\"/>\n<polygon fill=\"black\" stroke=\"black\" points=\"2468.04,-189.85 2470.97,-179.67 2462.33,-185.8 2468.04,-189.85\"/>\n</g>\n<!-- 39 -->\n<g id=\"node40\" class=\"node\">\n<title>39</title>\n<path fill=\"#a6d3f3\" stroke=\"black\" d=\"M2748.5,-187C2748.5,-187 2602.5,-187 2602.5,-187 2596.5,-187 2590.5,-181 2590.5,-175 2590.5,-175 2590.5,-116 2590.5,-116 2590.5,-110 2596.5,-104 2602.5,-104 2602.5,-104 2748.5,-104 2748.5,-104 2754.5,-104 2760.5,-110 2760.5,-116 2760.5,-116 2760.5,-175 2760.5,-175 2760.5,-181 2754.5,-187 2748.5,-187\"/>\n<text text-anchor=\"start\" x=\"2598.5\" y=\"-171.8\" font-family=\"Helvetica,sans-Serif\" font-size=\"14.00\">PercentSalaryHike ≤ 13.5</text>\n<text text-anchor=\"start\" x=\"2628\" y=\"-156.8\" font-family=\"Helvetica,sans-Serif\" font-size=\"14.00\">entropy = 0.938</text>\n<text text-anchor=\"start\" x=\"2634.5\" y=\"-141.8\" font-family=\"Helvetica,sans-Serif\" font-size=\"14.00\">samples = 41</text>\n<text text-anchor=\"start\" x=\"2610\" y=\"-126.8\" font-family=\"Helvetica,sans-Serif\" font-size=\"14.00\">value = [18.02, 32.82]</text>\n<text text-anchor=\"start\" x=\"2638.5\" y=\"-111.8\" font-family=\"Helvetica,sans-Serif\" font-size=\"14.00\">class = YES</text>\n</g>\n<!-- 38&#45;&gt;39 -->\n<g id=\"edge39\" class=\"edge\">\n<title>38&#45;&gt;39</title>\n<path fill=\"none\" stroke=\"black\" d=\"M2675.5,-222.91C2675.5,-214.65 2675.5,-205.86 2675.5,-197.3\"/>\n<polygon fill=\"black\" stroke=\"black\" points=\"2679,-197.02 2675.5,-187.02 2672,-197.02 2679,-197.02\"/>\n</g>\n<!-- 42 -->\n<g id=\"node43\" class=\"node\">\n<title>42</title>\n<path fill=\"#57ace9\" stroke=\"black\" d=\"M2922,-179.5C2922,-179.5 2791,-179.5 2791,-179.5 2785,-179.5 2779,-173.5 2779,-167.5 2779,-167.5 2779,-123.5 2779,-123.5 2779,-117.5 2785,-111.5 2791,-111.5 2791,-111.5 2922,-111.5 2922,-111.5 2928,-111.5 2934,-117.5 2934,-123.5 2934,-123.5 2934,-167.5 2934,-167.5 2934,-173.5 2928,-179.5 2922,-179.5\"/>\n<text text-anchor=\"start\" x=\"2809\" y=\"-164.3\" font-family=\"Helvetica,sans-Serif\" font-size=\"14.00\">entropy = 0.561</text>\n<text text-anchor=\"start\" x=\"2815.5\" y=\"-149.3\" font-family=\"Helvetica,sans-Serif\" font-size=\"14.00\">samples = 28</text>\n<text text-anchor=\"start\" x=\"2787\" y=\"-134.3\" font-family=\"Helvetica,sans-Serif\" font-size=\"14.00\">value = [7.208, 47.738]</text>\n<text text-anchor=\"start\" x=\"2819.5\" y=\"-119.3\" font-family=\"Helvetica,sans-Serif\" font-size=\"14.00\">class = YES</text>\n</g>\n<!-- 38&#45;&gt;42 -->\n<g id=\"edge42\" class=\"edge\">\n<title>38&#45;&gt;42</title>\n<path fill=\"none\" stroke=\"black\" d=\"M2738.3,-222.91C2757.25,-210.66 2777.99,-197.25 2796.73,-185.13\"/>\n<polygon fill=\"black\" stroke=\"black\" points=\"2798.69,-188.04 2805.19,-179.67 2794.89,-182.16 2798.69,-188.04\"/>\n</g>\n<!-- 40 -->\n<g id=\"node41\" class=\"node\">\n<title>40</title>\n<path fill=\"#75bbed\" stroke=\"black\" d=\"M2654,-68C2654,-68 2523,-68 2523,-68 2517,-68 2511,-62 2511,-56 2511,-56 2511,-12 2511,-12 2511,-6 2517,0 2523,0 2523,0 2654,0 2654,0 2660,0 2666,-6 2666,-12 2666,-12 2666,-56 2666,-56 2666,-62 2660,-68 2654,-68\"/>\n<text text-anchor=\"start\" x=\"2541\" y=\"-52.8\" font-family=\"Helvetica,sans-Serif\" font-size=\"14.00\">entropy = 0.781</text>\n<text text-anchor=\"start\" x=\"2547.5\" y=\"-37.8\" font-family=\"Helvetica,sans-Serif\" font-size=\"14.00\">samples = 20</text>\n<text text-anchor=\"start\" x=\"2519\" y=\"-22.8\" font-family=\"Helvetica,sans-Serif\" font-size=\"14.00\">value = [7.208, 23.869]</text>\n<text text-anchor=\"start\" x=\"2551.5\" y=\"-7.8\" font-family=\"Helvetica,sans-Serif\" font-size=\"14.00\">class = YES</text>\n</g>\n<!-- 39&#45;&gt;40 -->\n<g id=\"edge40\" class=\"edge\">\n<title>39&#45;&gt;40</title>\n<path fill=\"none\" stroke=\"black\" d=\"M2643.1,-103.73C2636,-94.79 2628.48,-85.32 2621.36,-76.36\"/>\n<polygon fill=\"black\" stroke=\"black\" points=\"2623.92,-73.95 2614.96,-68.3 2618.44,-78.31 2623.92,-73.95\"/>\n</g>\n<!-- 41 -->\n<g id=\"node42\" class=\"node\">\n<title>41</title>\n<path fill=\"#fbe9dd\" stroke=\"black\" d=\"M2827,-68C2827,-68 2696,-68 2696,-68 2690,-68 2684,-62 2684,-56 2684,-56 2684,-12 2684,-12 2684,-6 2690,0 2696,0 2696,0 2827,0 2827,0 2833,0 2839,-6 2839,-12 2839,-12 2839,-56 2839,-56 2839,-62 2833,-68 2827,-68\"/>\n<text text-anchor=\"start\" x=\"2714\" y=\"-52.8\" font-family=\"Helvetica,sans-Serif\" font-size=\"14.00\">entropy = 0.994</text>\n<text text-anchor=\"start\" x=\"2720.5\" y=\"-37.8\" font-family=\"Helvetica,sans-Serif\" font-size=\"14.00\">samples = 21</text>\n<text text-anchor=\"start\" x=\"2692\" y=\"-22.8\" font-family=\"Helvetica,sans-Serif\" font-size=\"14.00\">value = [10.812, 8.951]</text>\n<text text-anchor=\"start\" x=\"2727.5\" y=\"-7.8\" font-family=\"Helvetica,sans-Serif\" font-size=\"14.00\">class = NO</text>\n</g>\n<!-- 39&#45;&gt;41 -->\n<g id=\"edge41\" class=\"edge\">\n<title>39&#45;&gt;41</title>\n<path fill=\"none\" stroke=\"black\" d=\"M2707.52,-103.73C2714.54,-94.79 2721.98,-85.32 2729.02,-76.36\"/>\n<polygon fill=\"black\" stroke=\"black\" points=\"2731.92,-78.33 2735.35,-68.3 2726.42,-74 2731.92,-78.33\"/>\n</g>\n</g>\n</svg>\n"
          },
          "metadata": {},
          "execution_count": 75
        }
      ]
    },
    {
      "cell_type": "code",
      "source": [
        "y_predict = dt_5.predict(x_test)"
      ],
      "metadata": {
        "id": "MbPSX03MTsMI"
      },
      "execution_count": 44,
      "outputs": []
    },
    {
      "cell_type": "code",
      "source": [
        "from sklearn.metrics import confusion_matrix\n",
        "confusion_matrix(y_test, y_predict)  #confusion matrix 표시\n"
      ],
      "metadata": {
        "colab": {
          "base_uri": "https://localhost:8080/"
        },
        "id": "9klV3khoRx_u",
        "outputId": "678d4482-7e03-4874-cc92-2af939e49133"
      },
      "execution_count": 45,
      "outputs": [
        {
          "output_type": "execute_result",
          "data": {
            "text/plain": [
              "array([[203,  48],\n",
              "       [ 18,  25]])"
            ]
          },
          "metadata": {},
          "execution_count": 45
        }
      ]
    },
    {
      "cell_type": "code",
      "source": [
        "from sklearn.metrics import classification_report\n",
        "print(classification_report(y_test, y_predict, target_names = [\"F\", \"T\"]))"
      ],
      "metadata": {
        "colab": {
          "base_uri": "https://localhost:8080/"
        },
        "id": "1QClgERiVZ4m",
        "outputId": "db5a2fcd-bb2a-4a66-b05a-79ab3ef29990"
      },
      "execution_count": 46,
      "outputs": [
        {
          "output_type": "stream",
          "name": "stdout",
          "text": [
            "              precision    recall  f1-score   support\n",
            "\n",
            "           F       0.92      0.81      0.86       251\n",
            "           T       0.34      0.58      0.43        43\n",
            "\n",
            "    accuracy                           0.78       294\n",
            "   macro avg       0.63      0.70      0.65       294\n",
            "weighted avg       0.83      0.78      0.80       294\n",
            "\n"
          ]
        }
      ]
    }
  ]
}