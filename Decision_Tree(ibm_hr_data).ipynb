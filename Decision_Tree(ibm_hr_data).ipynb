{
  "nbformat": 4,
  "nbformat_minor": 0,
  "metadata": {
    "colab": {
      "provenance": [],
      "include_colab_link": true
    },
    "kernelspec": {
      "name": "python3",
      "display_name": "Python 3"
    },
    "language_info": {
      "name": "python"
    }
  },
  "cells": [
    {
      "cell_type": "markdown",
      "metadata": {
        "id": "view-in-github",
        "colab_type": "text"
      },
      "source": [
        "<a href=\"https://colab.research.google.com/github/Reign2121/Mining-project/blob/main/Decision_Tree(ibm_hr_data).ipynb\" target=\"_parent\"><img src=\"https://colab.research.google.com/assets/colab-badge.svg\" alt=\"Open In Colab\"/></a>"
      ]
    },
    {
      "cell_type": "code",
      "execution_count": 1,
      "metadata": {
        "id": "vD0Z-TI25uOe"
      },
      "outputs": [],
      "source": [
        "import numpy as np\n",
        "import pandas as pd\n",
        "import matplotlib.pyplot as plt\n",
        "import seaborn as sns"
      ]
    },
    {
      "cell_type": "code",
      "source": [
        "from google.colab import drive\n",
        "drive.mount('/content/drive')"
      ],
      "metadata": {
        "colab": {
          "base_uri": "https://localhost:8080/"
        },
        "id": "D06UNrcz5xT3",
        "outputId": "8f914a7e-66bb-4fd6-866a-6d2a37429c11"
      },
      "execution_count": 2,
      "outputs": [
        {
          "output_type": "stream",
          "name": "stdout",
          "text": [
            "Mounted at /content/drive\n"
          ]
        }
      ]
    },
    {
      "cell_type": "code",
      "source": [
        "hr = pd.read_csv(\"/content/drive/MyDrive/Colab Notebooks/Data/WA_Fn-UseC_-HR-Employee-Attrition 2.csv\")\n",
        "\n",
        "#데이터 검사\n",
        "pd.options.display.max_columns = None\n",
        "hr.head()"
      ],
      "metadata": {
        "colab": {
          "base_uri": "https://localhost:8080/"
        },
        "id": "CvQd_iXZ50NH",
        "outputId": "ec782e81-b997-43ee-d7a0-a9946b43fe01"
      },
      "execution_count": 3,
      "outputs": [
        {
          "output_type": "execute_result",
          "data": {
            "text/plain": [
              "Age                          int64\n",
              "Attrition                   object\n",
              "BusinessTravel              object\n",
              "DailyRate                    int64\n",
              "Department                  object\n",
              "DistanceFromHome             int64\n",
              "Education                    int64\n",
              "EducationField              object\n",
              "EmployeeCount                int64\n",
              "EmployeeNumber               int64\n",
              "EnvironmentSatisfaction      int64\n",
              "Gender                      object\n",
              "HourlyRate                   int64\n",
              "JobInvolvement               int64\n",
              "JobLevel                     int64\n",
              "JobRole                     object\n",
              "JobSatisfaction              int64\n",
              "MaritalStatus               object\n",
              "MonthlyIncome                int64\n",
              "MonthlyRate                  int64\n",
              "NumCompaniesWorked           int64\n",
              "Over18                      object\n",
              "OverTime                    object\n",
              "PercentSalaryHike            int64\n",
              "PerformanceRating            int64\n",
              "RelationshipSatisfaction     int64\n",
              "StandardHours                int64\n",
              "StockOptionLevel             int64\n",
              "TotalWorkingYears            int64\n",
              "TrainingTimesLastYear        int64\n",
              "WorkLifeBalance              int64\n",
              "YearsAtCompany               int64\n",
              "YearsInCurrentRole           int64\n",
              "YearsSinceLastPromotion      int64\n",
              "YearsWithCurrManager         int64\n",
              "dtype: object"
            ]
          },
          "metadata": {},
          "execution_count": 3
        }
      ]
    },
    {
      "cell_type": "code",
      "source": [
        "hr.shape"
      ],
      "metadata": {
        "colab": {
          "base_uri": "https://localhost:8080/"
        },
        "id": "ugD-wkSDYwiX",
        "outputId": "2d23933c-fbc4-4414-d0ab-6e8781f5666e"
      },
      "execution_count": 4,
      "outputs": [
        {
          "output_type": "execute_result",
          "data": {
            "text/plain": [
              "(1470, 35)"
            ]
          },
          "metadata": {},
          "execution_count": 4
        }
      ]
    },
    {
      "cell_type": "code",
      "source": [
        "hr = hr.astype({'JobLevel': 'category', 'StockOptionLevel': 'category', 'Education':'category',\n",
        "                'MaritalStatus':'category','Attrition':'category', 'OverTime':'category', 'Gender':'category',\n",
        "                'BusinessTravel':'category', 'Department':'category','EducationField':'category','JobRole':'category'\n",
        "                })"
      ],
      "metadata": {
        "id": "WskMb6kN50Sl"
      },
      "execution_count": null,
      "outputs": []
    },
    {
      "cell_type": "code",
      "source": [
        "hr.dtypes"
      ],
      "metadata": {
        "colab": {
          "base_uri": "https://localhost:8080/"
        },
        "id": "Anr27V6e-mfR",
        "outputId": "a4eccb43-e620-4da3-a19a-36661e4b22e8"
      },
      "execution_count": null,
      "outputs": [
        {
          "output_type": "execute_result",
          "data": {
            "text/plain": [
              "Age                            int64\n",
              "Attrition                   category\n",
              "BusinessTravel              category\n",
              "DailyRate                      int64\n",
              "Department                  category\n",
              "DistanceFromHome               int64\n",
              "Education                   category\n",
              "EducationField              category\n",
              "EmployeeCount                  int64\n",
              "EmployeeNumber                 int64\n",
              "EnvironmentSatisfaction        int64\n",
              "Gender                      category\n",
              "HourlyRate                     int64\n",
              "JobInvolvement                 int64\n",
              "JobLevel                    category\n",
              "JobRole                     category\n",
              "JobSatisfaction                int64\n",
              "MaritalStatus               category\n",
              "MonthlyIncome                  int64\n",
              "MonthlyRate                    int64\n",
              "NumCompaniesWorked             int64\n",
              "Over18                        object\n",
              "OverTime                    category\n",
              "PercentSalaryHike              int64\n",
              "PerformanceRating              int64\n",
              "RelationshipSatisfaction       int64\n",
              "StandardHours                  int64\n",
              "StockOptionLevel            category\n",
              "TotalWorkingYears              int64\n",
              "TrainingTimesLastYear          int64\n",
              "WorkLifeBalance                int64\n",
              "YearsAtCompany                 int64\n",
              "YearsInCurrentRole             int64\n",
              "YearsSinceLastPromotion        int64\n",
              "YearsWithCurrManager           int64\n",
              "dtype: object"
            ]
          },
          "metadata": {},
          "execution_count": 5
        }
      ]
    },
    {
      "cell_type": "code",
      "source": [
        "#변수 제거(모두 같은 값만 가지므로\n",
        "hr.drop(['EmployeeCount','StandardHours','Over18','EmployeeNumber'],axis=1,inplace=True)"
      ],
      "metadata": {
        "id": "qJ7Gb1CfFTlr"
      },
      "execution_count": null,
      "outputs": []
    },
    {
      "cell_type": "code",
      "source": [
        "#의사결정나무는 정규화 불필요\n",
        "hr_copy = hr.copy().drop('Attrition',axis=1)"
      ],
      "metadata": {
        "id": "6Dojhgdt50Z9"
      },
      "execution_count": null,
      "outputs": []
    },
    {
      "cell_type": "code",
      "source": [
        "from sklearn.preprocessing import RobustScaler\n",
        "\n",
        "#hr_copy = hr.copy().drop(\"Attrition\",axis=1)\n",
        "num_fea = [column for column in hr_copy.columns if hr_copy[column].dtype != \"category\"]\n",
        "cat_fea = [column for column in hr_copy.columns if hr_copy[column].dtype == \"category\"]\n",
        "\n",
        "#data_copy[num_fea] = RobustScaler().fit_transform(data_copy[num_fea])\n",
        "\n",
        "#cat_fea.append('Attrition')"
      ],
      "metadata": {
        "id": "LMK5DWCJ-wW0"
      },
      "execution_count": null,
      "outputs": []
    },
    {
      "cell_type": "code",
      "source": [
        "#원핫인코더로 더미화, get_dummies도 가능\n",
        "\n",
        "from sklearn.preprocessing import OneHotEncoder\n",
        "\n",
        "ohe = OneHotEncoder()\n",
        "\n",
        "dummies = ohe.fit_transform(hr[cat_fea]).toarray()\n",
        "\n",
        "df_dummies = pd.DataFrame(dummies, columns = ohe.get_feature_names(hr[cat_fea].columns))\n",
        "\n",
        "hr_dum=pd.concat([hr_copy[num_fea].reset_index(), df_dummies], axis=1)\n",
        "hr_dum.drop('index',inplace=True,axis=1)\n",
        "\n",
        "hr_dum.columns"
      ],
      "metadata": {
        "colab": {
          "base_uri": "https://localhost:8080/"
        },
        "id": "83QShNuy-xUI",
        "outputId": "6f772b28-50a9-49e2-99af-24e4dfb8f3b7"
      },
      "execution_count": null,
      "outputs": [
        {
          "output_type": "stream",
          "name": "stderr",
          "text": [
            "/usr/local/lib/python3.8/dist-packages/sklearn/utils/deprecation.py:87: FutureWarning: Function get_feature_names is deprecated; get_feature_names is deprecated in 1.0 and will be removed in 1.2. Please use get_feature_names_out instead.\n",
            "  warnings.warn(msg, category=FutureWarning)\n"
          ]
        },
        {
          "output_type": "execute_result",
          "data": {
            "text/plain": [
              "Index(['Age', 'DailyRate', 'DistanceFromHome', 'EnvironmentSatisfaction',\n",
              "       'HourlyRate', 'JobInvolvement', 'JobSatisfaction', 'MonthlyIncome',\n",
              "       'MonthlyRate', 'NumCompaniesWorked', 'PercentSalaryHike',\n",
              "       'PerformanceRating', 'RelationshipSatisfaction', 'TotalWorkingYears',\n",
              "       'TrainingTimesLastYear', 'WorkLifeBalance', 'YearsAtCompany',\n",
              "       'YearsInCurrentRole', 'YearsSinceLastPromotion', 'YearsWithCurrManager',\n",
              "       'BusinessTravel_Non-Travel', 'BusinessTravel_Travel_Frequently',\n",
              "       'BusinessTravel_Travel_Rarely', 'Department_Human Resources',\n",
              "       'Department_Research & Development', 'Department_Sales', 'Education_1',\n",
              "       'Education_2', 'Education_3', 'Education_4', 'Education_5',\n",
              "       'EducationField_Human Resources', 'EducationField_Life Sciences',\n",
              "       'EducationField_Marketing', 'EducationField_Medical',\n",
              "       'EducationField_Other', 'EducationField_Technical Degree',\n",
              "       'Gender_Female', 'Gender_Male', 'JobLevel_1', 'JobLevel_2',\n",
              "       'JobLevel_3', 'JobLevel_4', 'JobLevel_5',\n",
              "       'JobRole_Healthcare Representative', 'JobRole_Human Resources',\n",
              "       'JobRole_Laboratory Technician', 'JobRole_Manager',\n",
              "       'JobRole_Manufacturing Director', 'JobRole_Research Director',\n",
              "       'JobRole_Research Scientist', 'JobRole_Sales Executive',\n",
              "       'JobRole_Sales Representative', 'MaritalStatus_Divorced',\n",
              "       'MaritalStatus_Married', 'MaritalStatus_Single', 'OverTime_No',\n",
              "       'OverTime_Yes', 'StockOptionLevel_0', 'StockOptionLevel_1',\n",
              "       'StockOptionLevel_2', 'StockOptionLevel_3'],\n",
              "      dtype='object')"
            ]
          },
          "metadata": {},
          "execution_count": 18
        }
      ]
    },
    {
      "cell_type": "code",
      "source": [
        "#더미화( or 원핫 인코더)\n",
        "#hr_cp = hr.copy()\n",
        "#x_samp_dum = pd.get_dummies(x_samp[['JobLevel', 'StockOptionLevel', 'Education','MaritalStatus', 'OverTime', 'Gender','BusinessTravel', 'Department','EducationField','JobRole']])\n",
        "#x_samp = pd.concat([x_samp,x_samp_dum], axis=1)"
      ],
      "metadata": {
        "id": "U4Md9gZs6kTc"
      },
      "execution_count": null,
      "outputs": []
    },
    {
      "cell_type": "code",
      "source": [
        "#set 분리\n",
        "x = hr_dum\n",
        "y = hr.Attrition"
      ],
      "metadata": {
        "id": "8SKEmGuV50cp"
      },
      "execution_count": null,
      "outputs": []
    },
    {
      "cell_type": "code",
      "source": [
        "y.value_counts()"
      ],
      "metadata": {
        "colab": {
          "base_uri": "https://localhost:8080/"
        },
        "id": "Be1aji5f6b5c",
        "outputId": "b8f63fe2-b5f3-4832-9451-fb411cab533a"
      },
      "execution_count": null,
      "outputs": [
        {
          "output_type": "execute_result",
          "data": {
            "text/plain": [
              "No     1233\n",
              "Yes     237\n",
              "Name: Attrition, dtype: int64"
            ]
          },
          "metadata": {},
          "execution_count": 20
        }
      ]
    },
    {
      "cell_type": "code",
      "source": [
        "#언더샘플링 (레이블 수 맞추기)\n",
        "from imblearn.under_sampling import *\n",
        "#undersample = RandomUnderSampler(sampling_strategy='majority')\n",
        "#X_samp, y_samp = undersample.fit_resample(x,y)"
      ],
      "metadata": {
        "id": "lBN4ebQf6dgH"
      },
      "execution_count": null,
      "outputs": []
    },
    {
      "cell_type": "code",
      "source": [
        "#토멕랭크 샘플링\n",
        "#X_samp, y_samp = TomekLinks().fit_resample(x, y)"
      ],
      "metadata": {
        "id": "389VGBz8RuGJ"
      },
      "execution_count": null,
      "outputs": []
    },
    {
      "cell_type": "code",
      "source": [
        "#cnn 샘플링\n",
        "#X_samp, y_samp = CondensedNearestNeighbour().fit_resample(x, y)"
      ],
      "metadata": {
        "id": "PsPekbeMTMZD"
      },
      "execution_count": null,
      "outputs": []
    },
    {
      "cell_type": "code",
      "source": [
        "# oss = 토멕랭크 + cnn <채택>\n",
        "X_samp, y_samp = OneSidedSelection().fit_resample(x,y)"
      ],
      "metadata": {
        "id": "7fWrV-lxVw9J"
      },
      "execution_count": null,
      "outputs": []
    },
    {
      "cell_type": "code",
      "source": [
        "y_samp.value_counts()"
      ],
      "metadata": {
        "colab": {
          "base_uri": "https://localhost:8080/"
        },
        "id": "gFwQ280j6h7O",
        "outputId": "2e8d210d-bd0d-48a1-a487-1590f076db26"
      },
      "execution_count": null,
      "outputs": [
        {
          "output_type": "execute_result",
          "data": {
            "text/plain": [
              "No     1116\n",
              "Yes     237\n",
              "Name: Attrition, dtype: int64"
            ]
          },
          "metadata": {},
          "execution_count": 22
        }
      ]
    },
    {
      "cell_type": "code",
      "source": [
        "from sklearn.model_selection import train_test_split\n",
        "x_train, x_test, y_train, y_test = train_test_split(X_samp, y_samp, test_size=.2, shuffle = True, stratify = y_samp,random_state = 2)"
      ],
      "metadata": {
        "id": "gTLj9W0I6tWN"
      },
      "execution_count": null,
      "outputs": []
    },
    {
      "cell_type": "code",
      "source": [
        "#성장제한 / 파라미터 튜닝\n",
        "max_depth = [4,5,6,7,8,9,10]\n",
        "for i in max_depth:\n",
        "  dt_md = DecisionTreeClassifier(min_samples_leaf = 20\n",
        "                                 , criterion = \"entropy\",max_depth = i, class_weight= 'balanced',random_state = 2)\n",
        "  dt_md.fit(x_train,y_train)\n",
        "  print(\"max_depth:\",i)\n",
        "  print('정확도:',dt_md.score(x_test,y_test))\n"
      ],
      "metadata": {
        "colab": {
          "base_uri": "https://localhost:8080/"
        },
        "id": "DVg-Xhc661ay",
        "outputId": "f74ee756-3307-4d30-f5cf-fbbff715f758"
      },
      "execution_count": null,
      "outputs": [
        {
          "output_type": "stream",
          "name": "stdout",
          "text": [
            "max_depth: 4\n",
            "정확도: 0.7896678966789668\n",
            "max_depth: 5\n",
            "정확도: 0.7416974169741697\n",
            "max_depth: 6\n",
            "정확도: 0.6826568265682657\n",
            "max_depth: 7\n",
            "정확도: 0.7047970479704797\n",
            "max_depth: 8\n",
            "정확도: 0.6900369003690037\n",
            "max_depth: 9\n",
            "정확도: 0.6900369003690037\n",
            "max_depth: 10\n",
            "정확도: 0.7158671586715867\n"
          ]
        }
      ]
    },
    {
      "cell_type": "code",
      "source": [
        "  #가중치 줬을때\n",
        "  dt_5 = DecisionTreeClassifier(min_samples_leaf = 20,\n",
        "                                #말단노드최소수  \n",
        "                                criterion = \"entropy\",\n",
        "                                #엔트로피 지수 사용\n",
        "                                max_depth = 5,\n",
        "                                #최대성장 \n",
        "                                class_weight = 'balanced',\n",
        "                                #가중치 부여\n",
        "                                random_state=5)\n",
        "                                \n",
        "  dt_5.fit(x_train,y_train)\n",
        "  print('정확도:',dt_5.score(x_test,y_test))"
      ],
      "metadata": {
        "colab": {
          "base_uri": "https://localhost:8080/"
        },
        "id": "cB8bkRzD66DS",
        "outputId": "417ecb7f-e223-41b0-8cf9-03960123191e"
      },
      "execution_count": null,
      "outputs": [
        {
          "output_type": "stream",
          "name": "stdout",
          "text": [
            "정확도: 0.7749077490774908\n"
          ]
        }
      ]
    },
    {
      "cell_type": "code",
      "source": [
        "#시각화\n",
        "from sklearn import tree\n",
        "import graphviz\n",
        "dot_data = tree.export_graphviz(dt_5,   # 의사결정나무 모형 대입                 \n",
        "                               out_file = None,  # file로 변환할 것인가\n",
        "                               feature_names = x_test.columns,  # feature 이름\n",
        "                               class_names = ['NO','YES'],  # target 이름\n",
        "                               filled = True,           # 그림에 색상을 넣을것인가\n",
        "                               rounded = True,          # 반올림을 진행할 것인가\n",
        "                               special_characters = True)   # 특수문자를 사용하나\n",
        "\n",
        "graph = graphviz.Source(dot_data)              \n",
        "graph"
      ],
      "metadata": {
        "colab": {
          "base_uri": "https://localhost:8080/",
          "height": 935
        },
        "id": "VzyfboJ468ML",
        "outputId": "32f564eb-6d9d-41bb-9ce2-f08459b1dc95"
      },
      "execution_count": null,
      "outputs": [
        {
          "output_type": "execute_result",
          "data": {
            "text/plain": [
              "<graphviz.files.Source at 0x7f9435019a90>"
            ],
            "image/svg+xml": "<?xml version=\"1.0\" encoding=\"UTF-8\" standalone=\"no\"?>\n<!DOCTYPE svg PUBLIC \"-//W3C//DTD SVG 1.1//EN\"\n \"http://www.w3.org/Graphics/SVG/1.1/DTD/svg11.dtd\">\n<!-- Generated by graphviz version 2.40.1 (20161225.0304)\n -->\n<!-- Title: Tree Pages: 1 -->\n<svg width=\"2221pt\" height=\"671pt\"\n viewBox=\"0.00 0.00 2221.00 671.00\" xmlns=\"http://www.w3.org/2000/svg\" xmlns:xlink=\"http://www.w3.org/1999/xlink\">\n<g id=\"graph0\" class=\"graph\" transform=\"scale(1 1) rotate(0) translate(4 667)\">\n<title>Tree</title>\n<polygon fill=\"#ffffff\" stroke=\"transparent\" points=\"-4,4 -4,-667 2217,-667 2217,4 -4,4\"/>\n<!-- 0 -->\n<g id=\"node1\" class=\"node\">\n<title>0</title>\n<path fill=\"#ffffff\" stroke=\"#000000\" d=\"M1085,-663C1085,-663 925,-663 925,-663 919,-663 913,-657 913,-651 913,-651 913,-592 913,-592 913,-586 919,-580 925,-580 925,-580 1085,-580 1085,-580 1091,-580 1097,-586 1097,-592 1097,-592 1097,-651 1097,-651 1097,-657 1091,-663 1085,-663\"/>\n<text text-anchor=\"start\" x=\"921\" y=\"-647.8\" font-family=\"Helvetica,sans-Serif\" font-size=\"14.00\" fill=\"#000000\">MonthlyIncome ≤ 13203.0</text>\n<text text-anchor=\"start\" x=\"962.5\" y=\"-632.8\" font-family=\"Helvetica,sans-Serif\" font-size=\"14.00\" fill=\"#000000\">entropy = 1.0</text>\n<text text-anchor=\"start\" x=\"953\" y=\"-617.8\" font-family=\"Helvetica,sans-Serif\" font-size=\"14.00\" fill=\"#000000\">samples = 1082</text>\n<text text-anchor=\"start\" x=\"935\" y=\"-602.8\" font-family=\"Helvetica,sans-Serif\" font-size=\"14.00\" fill=\"#000000\">value = [541.0, 541.0]</text>\n<text text-anchor=\"start\" x=\"969\" y=\"-587.8\" font-family=\"Helvetica,sans-Serif\" font-size=\"14.00\" fill=\"#000000\">class = NO</text>\n</g>\n<!-- 1 -->\n<g id=\"node2\" class=\"node\">\n<title>1</title>\n<path fill=\"#e0f0fb\" stroke=\"#000000\" d=\"M990.5,-544C990.5,-544 841.5,-544 841.5,-544 835.5,-544 829.5,-538 829.5,-532 829.5,-532 829.5,-473 829.5,-473 829.5,-467 835.5,-461 841.5,-461 841.5,-461 990.5,-461 990.5,-461 996.5,-461 1002.5,-467 1002.5,-473 1002.5,-473 1002.5,-532 1002.5,-532 1002.5,-538 996.5,-544 990.5,-544\"/>\n<text text-anchor=\"start\" x=\"853\" y=\"-528.8\" font-family=\"Helvetica,sans-Serif\" font-size=\"14.00\" fill=\"#000000\">OverTime_No ≤ 0.5</text>\n<text text-anchor=\"start\" x=\"865\" y=\"-513.8\" font-family=\"Helvetica,sans-Serif\" font-size=\"14.00\" fill=\"#000000\">entropy = 0.995</text>\n<text text-anchor=\"start\" x=\"868\" y=\"-498.8\" font-family=\"Helvetica,sans-Serif\" font-size=\"14.00\" fill=\"#000000\">samples = 943</text>\n<text text-anchor=\"start\" x=\"837.5\" y=\"-483.8\" font-family=\"Helvetica,sans-Serif\" font-size=\"14.00\" fill=\"#000000\">value = [456.696, 541.0]</text>\n<text text-anchor=\"start\" x=\"876.5\" y=\"-468.8\" font-family=\"Helvetica,sans-Serif\" font-size=\"14.00\" fill=\"#000000\">class = YES</text>\n</g>\n<!-- 0&#45;&gt;1 -->\n<g id=\"edge1\" class=\"edge\">\n<title>0&#45;&gt;1</title>\n<path fill=\"none\" stroke=\"#000000\" d=\"M973.8721,-579.8796C967.271,-571.0534 960.2371,-561.6485 953.4298,-552.5466\"/>\n<polygon fill=\"#000000\" stroke=\"#000000\" points=\"956.0528,-550.2099 947.2607,-544.2981 950.4472,-554.4024 956.0528,-550.2099\"/>\n<text text-anchor=\"middle\" x=\"943.6919\" y=\"-565.342\" font-family=\"Helvetica,sans-Serif\" font-size=\"14.00\" fill=\"#000000\">True</text>\n</g>\n<!-- 28 -->\n<g id=\"node29\" class=\"node\">\n<title>28</title>\n<path fill=\"#e58139\" stroke=\"#000000\" d=\"M1157,-536.5C1157,-536.5 1033,-536.5 1033,-536.5 1027,-536.5 1021,-530.5 1021,-524.5 1021,-524.5 1021,-480.5 1021,-480.5 1021,-474.5 1027,-468.5 1033,-468.5 1033,-468.5 1157,-468.5 1157,-468.5 1163,-468.5 1169,-474.5 1169,-480.5 1169,-480.5 1169,-524.5 1169,-524.5 1169,-530.5 1163,-536.5 1157,-536.5\"/>\n<text text-anchor=\"start\" x=\"1050\" y=\"-521.3\" font-family=\"Helvetica,sans-Serif\" font-size=\"14.00\" fill=\"#000000\">entropy = &#45;0.0</text>\n<text text-anchor=\"start\" x=\"1047\" y=\"-506.3\" font-family=\"Helvetica,sans-Serif\" font-size=\"14.00\" fill=\"#000000\">samples = 139</text>\n<text text-anchor=\"start\" x=\"1029\" y=\"-491.3\" font-family=\"Helvetica,sans-Serif\" font-size=\"14.00\" fill=\"#000000\">value = [84.304, 0.0]</text>\n<text text-anchor=\"start\" x=\"1059\" y=\"-476.3\" font-family=\"Helvetica,sans-Serif\" font-size=\"14.00\" fill=\"#000000\">class = NO</text>\n</g>\n<!-- 0&#45;&gt;28 -->\n<g id=\"edge28\" class=\"edge\">\n<title>0&#45;&gt;28</title>\n<path fill=\"none\" stroke=\"#000000\" d=\"M1036.4776,-579.8796C1045.0435,-568.5536 1054.33,-556.2748 1062.9283,-544.9058\"/>\n<polygon fill=\"#000000\" stroke=\"#000000\" points=\"1065.8069,-546.902 1069.0475,-536.8149 1060.2238,-542.6795 1065.8069,-546.902\"/>\n<text text-anchor=\"middle\" x=\"1072.4835\" y=\"-557.8777\" font-family=\"Helvetica,sans-Serif\" font-size=\"14.00\" fill=\"#000000\">False</text>\n</g>\n<!-- 2 -->\n<g id=\"node3\" class=\"node\">\n<title>2</title>\n<path fill=\"#86c3ef\" stroke=\"#000000\" d=\"M874.5,-425C874.5,-425 709.5,-425 709.5,-425 703.5,-425 697.5,-419 697.5,-413 697.5,-413 697.5,-354 697.5,-354 697.5,-348 703.5,-342 709.5,-342 709.5,-342 874.5,-342 874.5,-342 880.5,-342 886.5,-348 886.5,-354 886.5,-354 886.5,-413 886.5,-413 886.5,-419 880.5,-425 874.5,-425\"/>\n<text text-anchor=\"start\" x=\"712\" y=\"-409.8\" font-family=\"Helvetica,sans-Serif\" font-size=\"14.00\" fill=\"#000000\">MonthlyIncome ≤ 3485.0</text>\n<text text-anchor=\"start\" x=\"741\" y=\"-394.8\" font-family=\"Helvetica,sans-Serif\" font-size=\"14.00\" fill=\"#000000\">entropy = 0.856</text>\n<text text-anchor=\"start\" x=\"744\" y=\"-379.8\" font-family=\"Helvetica,sans-Serif\" font-size=\"14.00\" fill=\"#000000\">samples = 280</text>\n<text text-anchor=\"start\" x=\"705.5\" y=\"-364.8\" font-family=\"Helvetica,sans-Serif\" font-size=\"14.00\" fill=\"#000000\">value = [109.777, 281.889]</text>\n<text text-anchor=\"start\" x=\"752.5\" y=\"-349.8\" font-family=\"Helvetica,sans-Serif\" font-size=\"14.00\" fill=\"#000000\">class = YES</text>\n</g>\n<!-- 1&#45;&gt;2 -->\n<g id=\"edge2\" class=\"edge\">\n<title>1&#45;&gt;2</title>\n<path fill=\"none\" stroke=\"#000000\" d=\"M872.6308,-460.8796C863.0584,-451.6931 852.8328,-441.8798 842.9897,-432.4336\"/>\n<polygon fill=\"#000000\" stroke=\"#000000\" points=\"845.1928,-429.6969 835.5543,-425.2981 840.3459,-434.7475 845.1928,-429.6969\"/>\n</g>\n<!-- 13 -->\n<g id=\"node14\" class=\"node\">\n<title>13</title>\n<path fill=\"#f8dfcd\" stroke=\"#000000\" d=\"M1159.5,-425C1159.5,-425 994.5,-425 994.5,-425 988.5,-425 982.5,-419 982.5,-413 982.5,-413 982.5,-354 982.5,-354 982.5,-348 988.5,-342 994.5,-342 994.5,-342 1159.5,-342 1159.5,-342 1165.5,-342 1171.5,-348 1171.5,-354 1171.5,-354 1171.5,-413 1171.5,-413 1171.5,-419 1165.5,-425 1159.5,-425\"/>\n<text text-anchor=\"start\" x=\"1002.5\" y=\"-409.8\" font-family=\"Helvetica,sans-Serif\" font-size=\"14.00\" fill=\"#000000\">YearsAtCompany ≤ 1.5</text>\n<text text-anchor=\"start\" x=\"1026\" y=\"-394.8\" font-family=\"Helvetica,sans-Serif\" font-size=\"14.00\" fill=\"#000000\">entropy = 0.985</text>\n<text text-anchor=\"start\" x=\"1029\" y=\"-379.8\" font-family=\"Helvetica,sans-Serif\" font-size=\"14.00\" fill=\"#000000\">samples = 663</text>\n<text text-anchor=\"start\" x=\"990.5\" y=\"-364.8\" font-family=\"Helvetica,sans-Serif\" font-size=\"14.00\" fill=\"#000000\">value = [346.919, 259.111]</text>\n<text text-anchor=\"start\" x=\"1041\" y=\"-349.8\" font-family=\"Helvetica,sans-Serif\" font-size=\"14.00\" fill=\"#000000\">class = NO</text>\n</g>\n<!-- 1&#45;&gt;13 -->\n<g id=\"edge13\" class=\"edge\">\n<title>1&#45;&gt;13</title>\n<path fill=\"none\" stroke=\"#000000\" d=\"M972.31,-460.8796C985.3012,-451.2774 999.219,-440.9903 1012.5277,-431.1534\"/>\n<polygon fill=\"#000000\" stroke=\"#000000\" points=\"1014.7604,-433.8555 1020.7218,-425.0969 1010.5996,-428.2263 1014.7604,-433.8555\"/>\n</g>\n<!-- 3 -->\n<g id=\"node4\" class=\"node\">\n<title>3</title>\n<path fill=\"#57ace9\" stroke=\"#000000\" d=\"M530.5,-306C530.5,-306 381.5,-306 381.5,-306 375.5,-306 369.5,-300 369.5,-294 369.5,-294 369.5,-235 369.5,-235 369.5,-229 375.5,-223 381.5,-223 381.5,-223 530.5,-223 530.5,-223 536.5,-223 542.5,-229 542.5,-235 542.5,-235 542.5,-294 542.5,-294 542.5,-300 536.5,-306 530.5,-306\"/>\n<text text-anchor=\"start\" x=\"421\" y=\"-290.8\" font-family=\"Helvetica,sans-Serif\" font-size=\"14.00\" fill=\"#000000\">Age ≤ 33.5</text>\n<text text-anchor=\"start\" x=\"405\" y=\"-275.8\" font-family=\"Helvetica,sans-Serif\" font-size=\"14.00\" fill=\"#000000\">entropy = 0.559</text>\n<text text-anchor=\"start\" x=\"408\" y=\"-260.8\" font-family=\"Helvetica,sans-Serif\" font-size=\"14.00\" fill=\"#000000\">samples = 104</text>\n<text text-anchor=\"start\" x=\"377.5\" y=\"-245.8\" font-family=\"Helvetica,sans-Serif\" font-size=\"14.00\" fill=\"#000000\">value = [26.08, 173.689]</text>\n<text text-anchor=\"start\" x=\"416.5\" y=\"-230.8\" font-family=\"Helvetica,sans-Serif\" font-size=\"14.00\" fill=\"#000000\">class = YES</text>\n</g>\n<!-- 2&#45;&gt;3 -->\n<g id=\"edge3\" class=\"edge\">\n<title>2&#45;&gt;3</title>\n<path fill=\"none\" stroke=\"#000000\" d=\"M697.0632,-349.8765C651.7697,-333.8351 597.6768,-314.6772 552.2191,-298.5776\"/>\n<polygon fill=\"#000000\" stroke=\"#000000\" points=\"553.2511,-295.2301 542.6563,-295.1908 550.9141,-301.8285 553.2511,-295.2301\"/>\n</g>\n<!-- 8 -->\n<g id=\"node9\" class=\"node\">\n<title>8</title>\n<path fill=\"#d2e9f9\" stroke=\"#000000\" d=\"M923.5,-306C923.5,-306 660.5,-306 660.5,-306 654.5,-306 648.5,-300 648.5,-294 648.5,-294 648.5,-235 648.5,-235 648.5,-229 654.5,-223 660.5,-223 660.5,-223 923.5,-223 923.5,-223 929.5,-223 935.5,-229 935.5,-235 935.5,-235 935.5,-294 935.5,-294 935.5,-300 929.5,-306 923.5,-306\"/>\n<text text-anchor=\"start\" x=\"656.5\" y=\"-290.8\" font-family=\"Helvetica,sans-Serif\" font-size=\"14.00\" fill=\"#000000\">JobRole_Healthcare Representative ≤ 0.5</text>\n<text text-anchor=\"start\" x=\"741\" y=\"-275.8\" font-family=\"Helvetica,sans-Serif\" font-size=\"14.00\" fill=\"#000000\">entropy = 0.988</text>\n<text text-anchor=\"start\" x=\"744\" y=\"-260.8\" font-family=\"Helvetica,sans-Serif\" font-size=\"14.00\" fill=\"#000000\">samples = 176</text>\n<text text-anchor=\"start\" x=\"718\" y=\"-245.8\" font-family=\"Helvetica,sans-Serif\" font-size=\"14.00\" fill=\"#000000\">value = [83.697, 108.2]</text>\n<text text-anchor=\"start\" x=\"752.5\" y=\"-230.8\" font-family=\"Helvetica,sans-Serif\" font-size=\"14.00\" fill=\"#000000\">class = YES</text>\n</g>\n<!-- 2&#45;&gt;8 -->\n<g id=\"edge8\" class=\"edge\">\n<title>2&#45;&gt;8</title>\n<path fill=\"none\" stroke=\"#000000\" d=\"M792,-341.8796C792,-333.6838 792,-324.9891 792,-316.5013\"/>\n<polygon fill=\"#000000\" stroke=\"#000000\" points=\"795.5001,-316.298 792,-306.2981 788.5001,-316.2981 795.5001,-316.298\"/>\n</g>\n<!-- 4 -->\n<g id=\"node5\" class=\"node\">\n<title>4</title>\n<path fill=\"#49a5e7\" stroke=\"#000000\" d=\"M339.5,-187C339.5,-187 160.5,-187 160.5,-187 154.5,-187 148.5,-181 148.5,-175 148.5,-175 148.5,-116 148.5,-116 148.5,-110 154.5,-104 160.5,-104 160.5,-104 339.5,-104 339.5,-104 345.5,-104 351.5,-110 351.5,-116 351.5,-116 351.5,-175 351.5,-175 351.5,-181 345.5,-187 339.5,-187\"/>\n<text text-anchor=\"start\" x=\"156.5\" y=\"-171.8\" font-family=\"Helvetica,sans-Serif\" font-size=\"14.00\" fill=\"#000000\">YearsWithCurrManager ≤ 0.5</text>\n<text text-anchor=\"start\" x=\"199\" y=\"-156.8\" font-family=\"Helvetica,sans-Serif\" font-size=\"14.00\" fill=\"#000000\">entropy = 0.386</text>\n<text text-anchor=\"start\" x=\"206\" y=\"-141.8\" font-family=\"Helvetica,sans-Serif\" font-size=\"14.00\" fill=\"#000000\">samples = 65</text>\n<text text-anchor=\"start\" x=\"167.5\" y=\"-126.8\" font-family=\"Helvetica,sans-Serif\" font-size=\"14.00\" fill=\"#000000\">value = [10.917, 133.826]</text>\n<text text-anchor=\"start\" x=\"210.5\" y=\"-111.8\" font-family=\"Helvetica,sans-Serif\" font-size=\"14.00\" fill=\"#000000\">class = YES</text>\n</g>\n<!-- 3&#45;&gt;4 -->\n<g id=\"edge4\" class=\"edge\">\n<title>3&#45;&gt;4</title>\n<path fill=\"none\" stroke=\"#000000\" d=\"M383.9512,-222.8796C366.8585,-213.0056 348.5121,-202.4075 331.0486,-192.3193\"/>\n<polygon fill=\"#000000\" stroke=\"#000000\" points=\"332.4179,-189.0684 322.0081,-187.0969 328.9164,-195.1297 332.4179,-189.0684\"/>\n</g>\n<!-- 7 -->\n<g id=\"node8\" class=\"node\">\n<title>7</title>\n<path fill=\"#84c2ef\" stroke=\"#000000\" d=\"M530.5,-179.5C530.5,-179.5 381.5,-179.5 381.5,-179.5 375.5,-179.5 369.5,-173.5 369.5,-167.5 369.5,-167.5 369.5,-123.5 369.5,-123.5 369.5,-117.5 375.5,-111.5 381.5,-111.5 381.5,-111.5 530.5,-111.5 530.5,-111.5 536.5,-111.5 542.5,-117.5 542.5,-123.5 542.5,-123.5 542.5,-167.5 542.5,-167.5 542.5,-173.5 536.5,-179.5 530.5,-179.5\"/>\n<text text-anchor=\"start\" x=\"405\" y=\"-164.3\" font-family=\"Helvetica,sans-Serif\" font-size=\"14.00\" fill=\"#000000\">entropy = 0.849</text>\n<text text-anchor=\"start\" x=\"412\" y=\"-149.3\" font-family=\"Helvetica,sans-Serif\" font-size=\"14.00\" fill=\"#000000\">samples = 39</text>\n<text text-anchor=\"start\" x=\"377.5\" y=\"-134.3\" font-family=\"Helvetica,sans-Serif\" font-size=\"14.00\" fill=\"#000000\">value = [15.163, 39.863]</text>\n<text text-anchor=\"start\" x=\"416.5\" y=\"-119.3\" font-family=\"Helvetica,sans-Serif\" font-size=\"14.00\" fill=\"#000000\">class = YES</text>\n</g>\n<!-- 3&#45;&gt;7 -->\n<g id=\"edge7\" class=\"edge\">\n<title>3&#45;&gt;7</title>\n<path fill=\"none\" stroke=\"#000000\" d=\"M456,-222.8796C456,-212.2134 456,-200.7021 456,-189.9015\"/>\n<polygon fill=\"#000000\" stroke=\"#000000\" points=\"459.5001,-189.8149 456,-179.8149 452.5001,-189.815 459.5001,-189.8149\"/>\n</g>\n<!-- 5 -->\n<g id=\"node6\" class=\"node\">\n<title>5</title>\n<path fill=\"#3d9fe5\" stroke=\"#000000\" d=\"M152,-68C152,-68 12,-68 12,-68 6,-68 0,-62 0,-56 0,-56 0,-12 0,-12 0,-6 6,0 12,0 12,0 152,0 152,0 158,0 164,-6 164,-12 164,-12 164,-56 164,-56 164,-62 158,-68 152,-68\"/>\n<text text-anchor=\"start\" x=\"31\" y=\"-52.8\" font-family=\"Helvetica,sans-Serif\" font-size=\"14.00\" fill=\"#000000\">entropy = 0.131</text>\n<text text-anchor=\"start\" x=\"38\" y=\"-37.8\" font-family=\"Helvetica,sans-Serif\" font-size=\"14.00\" fill=\"#000000\">samples = 25</text>\n<text text-anchor=\"start\" x=\"8\" y=\"-22.8\" font-family=\"Helvetica,sans-Serif\" font-size=\"14.00\" fill=\"#000000\">value = [1.213, 65.489]</text>\n<text text-anchor=\"start\" x=\"42.5\" y=\"-7.8\" font-family=\"Helvetica,sans-Serif\" font-size=\"14.00\" fill=\"#000000\">class = YES</text>\n</g>\n<!-- 4&#45;&gt;5 -->\n<g id=\"edge5\" class=\"edge\">\n<title>4&#45;&gt;5</title>\n<path fill=\"none\" stroke=\"#000000\" d=\"M187.443,-103.9815C172.5478,-94.0957 156.6886,-83.5701 141.9152,-73.7651\"/>\n<polygon fill=\"#000000\" stroke=\"#000000\" points=\"143.6251,-70.6993 133.3577,-68.0856 139.7542,-76.5317 143.6251,-70.6993\"/>\n</g>\n<!-- 6 -->\n<g id=\"node7\" class=\"node\">\n<title>6</title>\n<path fill=\"#55abe9\" stroke=\"#000000\" d=\"M334,-68C334,-68 194,-68 194,-68 188,-68 182,-62 182,-56 182,-56 182,-12 182,-12 182,-6 188,0 194,0 194,0 334,0 334,0 340,0 346,-6 346,-12 346,-12 346,-56 346,-56 346,-62 340,-68 334,-68\"/>\n<text text-anchor=\"start\" x=\"213\" y=\"-52.8\" font-family=\"Helvetica,sans-Serif\" font-size=\"14.00\" fill=\"#000000\">entropy = 0.542</text>\n<text text-anchor=\"start\" x=\"220\" y=\"-37.8\" font-family=\"Helvetica,sans-Serif\" font-size=\"14.00\" fill=\"#000000\">samples = 40</text>\n<text text-anchor=\"start\" x=\"190\" y=\"-22.8\" font-family=\"Helvetica,sans-Serif\" font-size=\"14.00\" fill=\"#000000\">value = [9.704, 68.337]</text>\n<text text-anchor=\"start\" x=\"224.5\" y=\"-7.8\" font-family=\"Helvetica,sans-Serif\" font-size=\"14.00\" fill=\"#000000\">class = YES</text>\n</g>\n<!-- 4&#45;&gt;6 -->\n<g id=\"edge6\" class=\"edge\">\n<title>4&#45;&gt;6</title>\n<path fill=\"none\" stroke=\"#000000\" d=\"M255.2131,-103.9815C256.2632,-95.618 257.3708,-86.7965 258.4325,-78.3409\"/>\n<polygon fill=\"#000000\" stroke=\"#000000\" points=\"261.9247,-78.6218 259.6978,-68.2637 254.9792,-77.7497 261.9247,-78.6218\"/>\n</g>\n<!-- 9 -->\n<g id=\"node10\" class=\"node\">\n<title>9</title>\n<path fill=\"#b8dcf6\" stroke=\"#000000\" d=\"M739,-187C739,-187 573,-187 573,-187 567,-187 561,-181 561,-175 561,-175 561,-116 561,-116 561,-110 567,-104 573,-104 573,-104 739,-104 739,-104 745,-104 751,-110 751,-116 751,-116 751,-175 751,-175 751,-181 745,-187 739,-187\"/>\n<text text-anchor=\"start\" x=\"569\" y=\"-171.8\" font-family=\"Helvetica,sans-Serif\" font-size=\"14.00\" fill=\"#000000\">DistanceFromHome ≤ 13.5</text>\n<text text-anchor=\"start\" x=\"605\" y=\"-156.8\" font-family=\"Helvetica,sans-Serif\" font-size=\"14.00\" fill=\"#000000\">entropy = 0.965</text>\n<text text-anchor=\"start\" x=\"608\" y=\"-141.8\" font-family=\"Helvetica,sans-Serif\" font-size=\"14.00\" fill=\"#000000\">samples = 152</text>\n<text text-anchor=\"start\" x=\"582\" y=\"-126.8\" font-family=\"Helvetica,sans-Serif\" font-size=\"14.00\" fill=\"#000000\">value = [69.141, 108.2]</text>\n<text text-anchor=\"start\" x=\"616.5\" y=\"-111.8\" font-family=\"Helvetica,sans-Serif\" font-size=\"14.00\" fill=\"#000000\">class = YES</text>\n</g>\n<!-- 8&#45;&gt;9 -->\n<g id=\"edge9\" class=\"edge\">\n<title>8&#45;&gt;9</title>\n<path fill=\"none\" stroke=\"#000000\" d=\"M744.4338,-222.8796C733.8321,-213.6031 722.4998,-203.6874 711.6067,-194.1559\"/>\n<polygon fill=\"#000000\" stroke=\"#000000\" points=\"713.5998,-191.2491 703.7692,-187.2981 708.9902,-196.5172 713.5998,-191.2491\"/>\n</g>\n<!-- 12 -->\n<g id=\"node13\" class=\"node\">\n<title>12</title>\n<path fill=\"#e58139\" stroke=\"#000000\" d=\"M905,-179.5C905,-179.5 781,-179.5 781,-179.5 775,-179.5 769,-173.5 769,-167.5 769,-167.5 769,-123.5 769,-123.5 769,-117.5 775,-111.5 781,-111.5 781,-111.5 905,-111.5 905,-111.5 911,-111.5 917,-117.5 917,-123.5 917,-123.5 917,-167.5 917,-167.5 917,-173.5 911,-179.5 905,-179.5\"/>\n<text text-anchor=\"start\" x=\"798\" y=\"-164.3\" font-family=\"Helvetica,sans-Serif\" font-size=\"14.00\" fill=\"#000000\">entropy = &#45;0.0</text>\n<text text-anchor=\"start\" x=\"799\" y=\"-149.3\" font-family=\"Helvetica,sans-Serif\" font-size=\"14.00\" fill=\"#000000\">samples = 24</text>\n<text text-anchor=\"start\" x=\"777\" y=\"-134.3\" font-family=\"Helvetica,sans-Serif\" font-size=\"14.00\" fill=\"#000000\">value = [14.556, 0.0]</text>\n<text text-anchor=\"start\" x=\"807\" y=\"-119.3\" font-family=\"Helvetica,sans-Serif\" font-size=\"14.00\" fill=\"#000000\">class = NO</text>\n</g>\n<!-- 8&#45;&gt;12 -->\n<g id=\"edge12\" class=\"edge\">\n<title>8&#45;&gt;12</title>\n<path fill=\"none\" stroke=\"#000000\" d=\"M809.8373,-222.8796C814.5028,-211.9935 819.5456,-200.227 824.2567,-189.2344\"/>\n<polygon fill=\"#000000\" stroke=\"#000000\" points=\"827.5714,-190.3851 828.2936,-179.8149 821.1373,-187.6277 827.5714,-190.3851\"/>\n</g>\n<!-- 10 -->\n<g id=\"node11\" class=\"node\">\n<title>10</title>\n<path fill=\"#fcf1e9\" stroke=\"#000000\" d=\"M540.5,-68C540.5,-68 391.5,-68 391.5,-68 385.5,-68 379.5,-62 379.5,-56 379.5,-56 379.5,-12 379.5,-12 379.5,-6 385.5,0 391.5,0 391.5,0 540.5,0 540.5,0 546.5,0 552.5,-6 552.5,-12 552.5,-12 552.5,-56 552.5,-56 552.5,-62 546.5,-68 540.5,-68\"/>\n<text text-anchor=\"start\" x=\"415\" y=\"-52.8\" font-family=\"Helvetica,sans-Serif\" font-size=\"14.00\" fill=\"#000000\">entropy = 0.997</text>\n<text text-anchor=\"start\" x=\"418\" y=\"-37.8\" font-family=\"Helvetica,sans-Serif\" font-size=\"14.00\" fill=\"#000000\">samples = 107</text>\n<text text-anchor=\"start\" x=\"387.5\" y=\"-22.8\" font-family=\"Helvetica,sans-Serif\" font-size=\"14.00\" fill=\"#000000\">value = [54.585, 48.405]</text>\n<text text-anchor=\"start\" x=\"430\" y=\"-7.8\" font-family=\"Helvetica,sans-Serif\" font-size=\"14.00\" fill=\"#000000\">class = NO</text>\n</g>\n<!-- 9&#45;&gt;10 -->\n<g id=\"edge10\" class=\"edge\">\n<title>9&#45;&gt;10</title>\n<path fill=\"none\" stroke=\"#000000\" d=\"M585.251,-103.9815C568.0904,-93.911 549.7984,-83.1764 532.8256,-73.2161\"/>\n<polygon fill=\"#000000\" stroke=\"#000000\" points=\"534.4792,-70.1283 524.0831,-68.0856 530.9363,-76.1656 534.4792,-70.1283\"/>\n</g>\n<!-- 11 -->\n<g id=\"node12\" class=\"node\">\n<title>11</title>\n<path fill=\"#69b5eb\" stroke=\"#000000\" d=\"M731.5,-68C731.5,-68 582.5,-68 582.5,-68 576.5,-68 570.5,-62 570.5,-56 570.5,-56 570.5,-12 570.5,-12 570.5,-6 576.5,0 582.5,0 582.5,0 731.5,0 731.5,0 737.5,0 743.5,-6 743.5,-12 743.5,-12 743.5,-56 743.5,-56 743.5,-62 737.5,-68 731.5,-68\"/>\n<text text-anchor=\"start\" x=\"606\" y=\"-52.8\" font-family=\"Helvetica,sans-Serif\" font-size=\"14.00\" fill=\"#000000\">entropy = 0.713</text>\n<text text-anchor=\"start\" x=\"613\" y=\"-37.8\" font-family=\"Helvetica,sans-Serif\" font-size=\"14.00\" fill=\"#000000\">samples = 45</text>\n<text text-anchor=\"start\" x=\"578.5\" y=\"-22.8\" font-family=\"Helvetica,sans-Serif\" font-size=\"14.00\" fill=\"#000000\">value = [14.556, 59.795]</text>\n<text text-anchor=\"start\" x=\"617.5\" y=\"-7.8\" font-family=\"Helvetica,sans-Serif\" font-size=\"14.00\" fill=\"#000000\">class = YES</text>\n</g>\n<!-- 9&#45;&gt;11 -->\n<g id=\"edge11\" class=\"edge\">\n<title>9&#45;&gt;11</title>\n<path fill=\"none\" stroke=\"#000000\" d=\"M656.3724,-103.9815C656.4474,-95.618 656.5265,-86.7965 656.6023,-78.3409\"/>\n<polygon fill=\"#000000\" stroke=\"#000000\" points=\"660.1028,-78.2947 656.6927,-68.2637 653.1031,-78.2318 660.1028,-78.2947\"/>\n</g>\n<!-- 14 -->\n<g id=\"node15\" class=\"node\">\n<title>14</title>\n<path fill=\"#8dc7f0\" stroke=\"#000000\" d=\"M1151.5,-306C1151.5,-306 1002.5,-306 1002.5,-306 996.5,-306 990.5,-300 990.5,-294 990.5,-294 990.5,-235 990.5,-235 990.5,-229 996.5,-223 1002.5,-223 1002.5,-223 1151.5,-223 1151.5,-223 1157.5,-223 1163.5,-229 1163.5,-235 1163.5,-235 1163.5,-294 1163.5,-294 1163.5,-300 1157.5,-306 1151.5,-306\"/>\n<text text-anchor=\"start\" x=\"1042\" y=\"-290.8\" font-family=\"Helvetica,sans-Serif\" font-size=\"14.00\" fill=\"#000000\">Age ≤ 33.0</text>\n<text text-anchor=\"start\" x=\"1030\" y=\"-275.8\" font-family=\"Helvetica,sans-Serif\" font-size=\"14.00\" fill=\"#000000\">entropy = 0.88</text>\n<text text-anchor=\"start\" x=\"1033\" y=\"-260.8\" font-family=\"Helvetica,sans-Serif\" font-size=\"14.00\" fill=\"#000000\">samples = 99</text>\n<text text-anchor=\"start\" x=\"998.5\" y=\"-245.8\" font-family=\"Helvetica,sans-Serif\" font-size=\"14.00\" fill=\"#000000\">value = [40.029, 93.963]</text>\n<text text-anchor=\"start\" x=\"1037.5\" y=\"-230.8\" font-family=\"Helvetica,sans-Serif\" font-size=\"14.00\" fill=\"#000000\">class = YES</text>\n</g>\n<!-- 13&#45;&gt;14 -->\n<g id=\"edge14\" class=\"edge\">\n<title>13&#45;&gt;14</title>\n<path fill=\"none\" stroke=\"#000000\" d=\"M1077,-341.8796C1077,-333.6838 1077,-324.9891 1077,-316.5013\"/>\n<polygon fill=\"#000000\" stroke=\"#000000\" points=\"1080.5001,-316.298 1077,-306.2981 1073.5001,-316.2981 1080.5001,-316.298\"/>\n</g>\n<!-- 21 -->\n<g id=\"node22\" class=\"node\">\n<title>21</title>\n<path fill=\"#f3c5a4\" stroke=\"#000000\" d=\"M1738.5,-306C1738.5,-306 1579.5,-306 1579.5,-306 1573.5,-306 1567.5,-300 1567.5,-294 1567.5,-294 1567.5,-235 1567.5,-235 1567.5,-229 1573.5,-223 1579.5,-223 1579.5,-223 1738.5,-223 1738.5,-223 1744.5,-223 1750.5,-229 1750.5,-235 1750.5,-235 1750.5,-294 1750.5,-294 1750.5,-300 1744.5,-306 1738.5,-306\"/>\n<text text-anchor=\"start\" x=\"1575.5\" y=\"-290.8\" font-family=\"Helvetica,sans-Serif\" font-size=\"14.00\" fill=\"#000000\">StockOptionLevel_0 ≤ 0.5</text>\n<text text-anchor=\"start\" x=\"1608\" y=\"-275.8\" font-family=\"Helvetica,sans-Serif\" font-size=\"14.00\" fill=\"#000000\">entropy = 0.934</text>\n<text text-anchor=\"start\" x=\"1611\" y=\"-260.8\" font-family=\"Helvetica,sans-Serif\" font-size=\"14.00\" fill=\"#000000\">samples = 564</text>\n<text text-anchor=\"start\" x=\"1576.5\" y=\"-245.8\" font-family=\"Helvetica,sans-Serif\" font-size=\"14.00\" fill=\"#000000\">value = [306.89, 165.147]</text>\n<text text-anchor=\"start\" x=\"1623\" y=\"-230.8\" font-family=\"Helvetica,sans-Serif\" font-size=\"14.00\" fill=\"#000000\">class = NO</text>\n</g>\n<!-- 13&#45;&gt;21 -->\n<g id=\"edge21\" class=\"edge\">\n<title>13&#45;&gt;21</title>\n<path fill=\"none\" stroke=\"#000000\" d=\"M1171.8037,-364.1157C1277.6908,-342.4653 1448.4506,-307.5505 1557.1264,-285.3298\"/>\n<polygon fill=\"#000000\" stroke=\"#000000\" points=\"1558.0229,-288.719 1567.1191,-283.2866 1556.6206,-281.8609 1558.0229,-288.719\"/>\n</g>\n<!-- 15 -->\n<g id=\"node16\" class=\"node\">\n<title>15</title>\n<path fill=\"#62b1ea\" stroke=\"#000000\" d=\"M1106.5,-187C1106.5,-187 947.5,-187 947.5,-187 941.5,-187 935.5,-181 935.5,-175 935.5,-175 935.5,-116 935.5,-116 935.5,-110 941.5,-104 947.5,-104 947.5,-104 1106.5,-104 1106.5,-104 1112.5,-104 1118.5,-110 1118.5,-116 1118.5,-116 1118.5,-175 1118.5,-175 1118.5,-181 1112.5,-187 1106.5,-187\"/>\n<text text-anchor=\"start\" x=\"943.5\" y=\"-171.8\" font-family=\"Helvetica,sans-Serif\" font-size=\"14.00\" fill=\"#000000\">StockOptionLevel_0 ≤ 0.5</text>\n<text text-anchor=\"start\" x=\"976\" y=\"-156.8\" font-family=\"Helvetica,sans-Serif\" font-size=\"14.00\" fill=\"#000000\">entropy = 0.658</text>\n<text text-anchor=\"start\" x=\"983\" y=\"-141.8\" font-family=\"Helvetica,sans-Serif\" font-size=\"14.00\" fill=\"#000000\">samples = 51</text>\n<text text-anchor=\"start\" x=\"948.5\" y=\"-126.8\" font-family=\"Helvetica,sans-Serif\" font-size=\"14.00\" fill=\"#000000\">value = [15.163, 74.032]</text>\n<text text-anchor=\"start\" x=\"987.5\" y=\"-111.8\" font-family=\"Helvetica,sans-Serif\" font-size=\"14.00\" fill=\"#000000\">class = YES</text>\n</g>\n<!-- 14&#45;&gt;15 -->\n<g id=\"edge15\" class=\"edge\">\n<title>14&#45;&gt;15</title>\n<path fill=\"none\" stroke=\"#000000\" d=\"M1059.5124,-222.8796C1055.9553,-214.4136 1052.1745,-205.4153 1048.4969,-196.6626\"/>\n<polygon fill=\"#000000\" stroke=\"#000000\" points=\"1051.6627,-195.1616 1044.5622,-187.2981 1045.2092,-197.8731 1051.6627,-195.1616\"/>\n</g>\n<!-- 18 -->\n<g id=\"node19\" class=\"node\">\n<title>18</title>\n<path fill=\"#fae6d8\" stroke=\"#000000\" d=\"M1297.5,-187C1297.5,-187 1148.5,-187 1148.5,-187 1142.5,-187 1136.5,-181 1136.5,-175 1136.5,-175 1136.5,-116 1136.5,-116 1136.5,-110 1142.5,-104 1148.5,-104 1148.5,-104 1297.5,-104 1297.5,-104 1303.5,-104 1309.5,-110 1309.5,-116 1309.5,-116 1309.5,-175 1309.5,-175 1309.5,-181 1303.5,-187 1297.5,-187\"/>\n<text text-anchor=\"start\" x=\"1165.5\" y=\"-171.8\" font-family=\"Helvetica,sans-Serif\" font-size=\"14.00\" fill=\"#000000\">DailyRate ≤ 914.0</text>\n<text text-anchor=\"start\" x=\"1172\" y=\"-156.8\" font-family=\"Helvetica,sans-Serif\" font-size=\"14.00\" fill=\"#000000\">entropy = 0.991</text>\n<text text-anchor=\"start\" x=\"1179\" y=\"-141.8\" font-family=\"Helvetica,sans-Serif\" font-size=\"14.00\" fill=\"#000000\">samples = 48</text>\n<text text-anchor=\"start\" x=\"1144.5\" y=\"-126.8\" font-family=\"Helvetica,sans-Serif\" font-size=\"14.00\" fill=\"#000000\">value = [24.867, 19.932]</text>\n<text text-anchor=\"start\" x=\"1187\" y=\"-111.8\" font-family=\"Helvetica,sans-Serif\" font-size=\"14.00\" fill=\"#000000\">class = NO</text>\n</g>\n<!-- 14&#45;&gt;18 -->\n<g id=\"edge18\" class=\"edge\">\n<title>14&#45;&gt;18</title>\n<path fill=\"none\" stroke=\"#000000\" d=\"M1128.0637,-222.8796C1139.5555,-213.513 1151.8468,-203.4948 1163.645,-193.8784\"/>\n<polygon fill=\"#000000\" stroke=\"#000000\" points=\"1166.1782,-196.329 1171.7183,-187.2981 1161.7556,-190.903 1166.1782,-196.329\"/>\n</g>\n<!-- 16 -->\n<g id=\"node17\" class=\"node\">\n<title>16</title>\n<path fill=\"#a2d1f3\" stroke=\"#000000\" d=\"M915,-68C915,-68 775,-68 775,-68 769,-68 763,-62 763,-56 763,-56 763,-12 763,-12 763,-6 769,0 775,0 775,0 915,0 915,0 921,0 927,-6 927,-12 927,-12 927,-56 927,-56 927,-62 921,-68 915,-68\"/>\n<text text-anchor=\"start\" x=\"794\" y=\"-52.8\" font-family=\"Helvetica,sans-Serif\" font-size=\"14.00\" fill=\"#000000\">entropy = 0.932</text>\n<text text-anchor=\"start\" x=\"801\" y=\"-37.8\" font-family=\"Helvetica,sans-Serif\" font-size=\"14.00\" fill=\"#000000\">samples = 21</text>\n<text text-anchor=\"start\" x=\"771\" y=\"-22.8\" font-family=\"Helvetica,sans-Serif\" font-size=\"14.00\" fill=\"#000000\">value = [9.098, 17.084]</text>\n<text text-anchor=\"start\" x=\"805.5\" y=\"-7.8\" font-family=\"Helvetica,sans-Serif\" font-size=\"14.00\" fill=\"#000000\">class = YES</text>\n</g>\n<!-- 15&#45;&gt;16 -->\n<g id=\"edge16\" class=\"edge\">\n<title>15&#45;&gt;16</title>\n<path fill=\"none\" stroke=\"#000000\" d=\"M959.2299,-103.9815C942.9427,-94.0034 925.5915,-83.3733 909.4597,-73.4904\"/>\n<polygon fill=\"#000000\" stroke=\"#000000\" points=\"910.993,-70.3252 900.6375,-68.0856 907.3362,-76.2941 910.993,-70.3252\"/>\n</g>\n<!-- 17 -->\n<g id=\"node18\" class=\"node\">\n<title>17</title>\n<path fill=\"#4ea7e8\" stroke=\"#000000\" d=\"M1097,-68C1097,-68 957,-68 957,-68 951,-68 945,-62 945,-56 945,-56 945,-12 945,-12 945,-6 951,0 957,0 957,0 1097,0 1097,0 1103,0 1109,-6 1109,-12 1109,-12 1109,-56 1109,-56 1109,-62 1103,-68 1097,-68\"/>\n<text text-anchor=\"start\" x=\"976\" y=\"-52.8\" font-family=\"Helvetica,sans-Serif\" font-size=\"14.00\" fill=\"#000000\">entropy = 0.457</text>\n<text text-anchor=\"start\" x=\"983\" y=\"-37.8\" font-family=\"Helvetica,sans-Serif\" font-size=\"14.00\" fill=\"#000000\">samples = 30</text>\n<text text-anchor=\"start\" x=\"953\" y=\"-22.8\" font-family=\"Helvetica,sans-Serif\" font-size=\"14.00\" fill=\"#000000\">value = [6.065, 56.947]</text>\n<text text-anchor=\"start\" x=\"987.5\" y=\"-7.8\" font-family=\"Helvetica,sans-Serif\" font-size=\"14.00\" fill=\"#000000\">class = YES</text>\n</g>\n<!-- 15&#45;&gt;17 -->\n<g id=\"edge17\" class=\"edge\">\n<title>15&#45;&gt;17</title>\n<path fill=\"none\" stroke=\"#000000\" d=\"M1027,-103.9815C1027,-95.618 1027,-86.7965 1027,-78.3409\"/>\n<polygon fill=\"#000000\" stroke=\"#000000\" points=\"1030.5001,-78.2636 1027,-68.2637 1023.5001,-78.2637 1030.5001,-78.2636\"/>\n</g>\n<!-- 19 -->\n<g id=\"node20\" class=\"node\">\n<title>19</title>\n<path fill=\"#cde6f8\" stroke=\"#000000\" d=\"M1288.5,-68C1288.5,-68 1139.5,-68 1139.5,-68 1133.5,-68 1127.5,-62 1127.5,-56 1127.5,-56 1127.5,-12 1127.5,-12 1127.5,-6 1133.5,0 1139.5,0 1139.5,0 1288.5,0 1288.5,0 1294.5,0 1300.5,-6 1300.5,-12 1300.5,-12 1300.5,-56 1300.5,-56 1300.5,-62 1294.5,-68 1288.5,-68\"/>\n<text text-anchor=\"start\" x=\"1163\" y=\"-52.8\" font-family=\"Helvetica,sans-Serif\" font-size=\"14.00\" fill=\"#000000\">entropy = 0.985</text>\n<text text-anchor=\"start\" x=\"1170\" y=\"-37.8\" font-family=\"Helvetica,sans-Serif\" font-size=\"14.00\" fill=\"#000000\">samples = 27</text>\n<text text-anchor=\"start\" x=\"1135.5\" y=\"-22.8\" font-family=\"Helvetica,sans-Serif\" font-size=\"14.00\" fill=\"#000000\">value = [12.737, 17.084]</text>\n<text text-anchor=\"start\" x=\"1174.5\" y=\"-7.8\" font-family=\"Helvetica,sans-Serif\" font-size=\"14.00\" fill=\"#000000\">class = YES</text>\n</g>\n<!-- 18&#45;&gt;19 -->\n<g id=\"edge19\" class=\"edge\">\n<title>18&#45;&gt;19</title>\n<path fill=\"none\" stroke=\"#000000\" d=\"M1219.6487,-103.9815C1218.9737,-95.618 1218.2616,-86.7965 1217.5791,-78.3409\"/>\n<polygon fill=\"#000000\" stroke=\"#000000\" points=\"1221.059,-77.9496 1216.7657,-68.2637 1214.0817,-78.5129 1221.059,-77.9496\"/>\n</g>\n<!-- 20 -->\n<g id=\"node21\" class=\"node\">\n<title>20</title>\n<path fill=\"#eb9f67\" stroke=\"#000000\" d=\"M1463,-68C1463,-68 1331,-68 1331,-68 1325,-68 1319,-62 1319,-56 1319,-56 1319,-12 1319,-12 1319,-6 1325,0 1331,0 1331,0 1463,0 1463,0 1469,0 1475,-6 1475,-12 1475,-12 1475,-56 1475,-56 1475,-62 1469,-68 1463,-68\"/>\n<text text-anchor=\"start\" x=\"1346\" y=\"-52.8\" font-family=\"Helvetica,sans-Serif\" font-size=\"14.00\" fill=\"#000000\">entropy = 0.702</text>\n<text text-anchor=\"start\" x=\"1353\" y=\"-37.8\" font-family=\"Helvetica,sans-Serif\" font-size=\"14.00\" fill=\"#000000\">samples = 21</text>\n<text text-anchor=\"start\" x=\"1327\" y=\"-22.8\" font-family=\"Helvetica,sans-Serif\" font-size=\"14.00\" fill=\"#000000\">value = [12.13, 2.847]</text>\n<text text-anchor=\"start\" x=\"1361\" y=\"-7.8\" font-family=\"Helvetica,sans-Serif\" font-size=\"14.00\" fill=\"#000000\">class = NO</text>\n</g>\n<!-- 18&#45;&gt;20 -->\n<g id=\"edge20\" class=\"edge\">\n<title>18&#45;&gt;20</title>\n<path fill=\"none\" stroke=\"#000000\" d=\"M1287.7912,-103.9815C1303.3625,-94.0034 1319.951,-83.3733 1335.3737,-73.4904\"/>\n<polygon fill=\"#000000\" stroke=\"#000000\" points=\"1337.2768,-76.4279 1343.8081,-68.0856 1333.5,-70.5341 1337.2768,-76.4279\"/>\n</g>\n<!-- 22 -->\n<g id=\"node23\" class=\"node\">\n<title>22</title>\n<path fill=\"#edaa7a\" stroke=\"#000000\" d=\"M1737.5,-187C1737.5,-187 1580.5,-187 1580.5,-187 1574.5,-187 1568.5,-181 1568.5,-175 1568.5,-175 1568.5,-116 1568.5,-116 1568.5,-110 1574.5,-104 1580.5,-104 1580.5,-104 1737.5,-104 1737.5,-104 1743.5,-104 1749.5,-110 1749.5,-116 1749.5,-116 1749.5,-175 1749.5,-175 1749.5,-181 1743.5,-187 1737.5,-187\"/>\n<text text-anchor=\"start\" x=\"1583.5\" y=\"-171.8\" font-family=\"Helvetica,sans-Serif\" font-size=\"14.00\" fill=\"#000000\">MonthlyRate ≤ 16361.0</text>\n<text text-anchor=\"start\" x=\"1608\" y=\"-156.8\" font-family=\"Helvetica,sans-Serif\" font-size=\"14.00\" fill=\"#000000\">entropy = 0.805</text>\n<text text-anchor=\"start\" x=\"1611\" y=\"-141.8\" font-family=\"Helvetica,sans-Serif\" font-size=\"14.00\" fill=\"#000000\">samples = 323</text>\n<text text-anchor=\"start\" x=\"1576.5\" y=\"-126.8\" font-family=\"Helvetica,sans-Serif\" font-size=\"14.00\" fill=\"#000000\">value = [183.164, 59.795]</text>\n<text text-anchor=\"start\" x=\"1623\" y=\"-111.8\" font-family=\"Helvetica,sans-Serif\" font-size=\"14.00\" fill=\"#000000\">class = NO</text>\n</g>\n<!-- 21&#45;&gt;22 -->\n<g id=\"edge22\" class=\"edge\">\n<title>21&#45;&gt;22</title>\n<path fill=\"none\" stroke=\"#000000\" d=\"M1659,-222.8796C1659,-214.6838 1659,-205.9891 1659,-197.5013\"/>\n<polygon fill=\"#000000\" stroke=\"#000000\" points=\"1662.5001,-197.298 1659,-187.2981 1655.5001,-197.2981 1662.5001,-197.298\"/>\n</g>\n<!-- 25 -->\n<g id=\"node26\" class=\"node\">\n<title>25</title>\n<path fill=\"#fbece2\" stroke=\"#000000\" d=\"M2040,-187C2040,-187 1864,-187 1864,-187 1858,-187 1852,-181 1852,-175 1852,-175 1852,-116 1852,-116 1852,-110 1858,-104 1864,-104 1864,-104 2040,-104 2040,-104 2046,-104 2052,-110 2052,-116 2052,-116 2052,-175 2052,-175 2052,-181 2046,-187 2040,-187\"/>\n<text text-anchor=\"start\" x=\"1860\" y=\"-171.8\" font-family=\"Helvetica,sans-Serif\" font-size=\"14.00\" fill=\"#000000\">TrainingTimesLastYear ≤ 4.5</text>\n<text text-anchor=\"start\" x=\"1901\" y=\"-156.8\" font-family=\"Helvetica,sans-Serif\" font-size=\"14.00\" fill=\"#000000\">entropy = 0.995</text>\n<text text-anchor=\"start\" x=\"1904\" y=\"-141.8\" font-family=\"Helvetica,sans-Serif\" font-size=\"14.00\" fill=\"#000000\">samples = 241</text>\n<text text-anchor=\"start\" x=\"1865.5\" y=\"-126.8\" font-family=\"Helvetica,sans-Serif\" font-size=\"14.00\" fill=\"#000000\">value = [123.726, 105.353]</text>\n<text text-anchor=\"start\" x=\"1916\" y=\"-111.8\" font-family=\"Helvetica,sans-Serif\" font-size=\"14.00\" fill=\"#000000\">class = NO</text>\n</g>\n<!-- 21&#45;&gt;25 -->\n<g id=\"edge25\" class=\"edge\">\n<title>21&#45;&gt;25</title>\n<path fill=\"none\" stroke=\"#000000\" d=\"M1750.5018,-227.3371C1779.6419,-215.5021 1812.1782,-202.2877 1842.4603,-189.9888\"/>\n<polygon fill=\"#000000\" stroke=\"#000000\" points=\"1843.8316,-193.2096 1851.7796,-186.2039 1841.1975,-186.7241 1843.8316,-193.2096\"/>\n</g>\n<!-- 23 -->\n<g id=\"node24\" class=\"node\">\n<title>23</title>\n<path fill=\"#f2c09d\" stroke=\"#000000\" d=\"M1645,-68C1645,-68 1505,-68 1505,-68 1499,-68 1493,-62 1493,-56 1493,-56 1493,-12 1493,-12 1493,-6 1499,0 1505,0 1505,0 1645,0 1645,0 1651,0 1657,-6 1657,-12 1657,-12 1657,-56 1657,-56 1657,-62 1651,-68 1645,-68\"/>\n<text text-anchor=\"start\" x=\"1528\" y=\"-52.8\" font-family=\"Helvetica,sans-Serif\" font-size=\"14.00\" fill=\"#000000\">entropy = 0.92</text>\n<text text-anchor=\"start\" x=\"1527\" y=\"-37.8\" font-family=\"Helvetica,sans-Serif\" font-size=\"14.00\" fill=\"#000000\">samples = 196</text>\n<text text-anchor=\"start\" x=\"1501\" y=\"-22.8\" font-family=\"Helvetica,sans-Serif\" font-size=\"14.00\" fill=\"#000000\">value = [107.351, 54.1]</text>\n<text text-anchor=\"start\" x=\"1539\" y=\"-7.8\" font-family=\"Helvetica,sans-Serif\" font-size=\"14.00\" fill=\"#000000\">class = NO</text>\n</g>\n<!-- 22&#45;&gt;23 -->\n<g id=\"edge23\" class=\"edge\">\n<title>22&#45;&gt;23</title>\n<path fill=\"none\" stroke=\"#000000\" d=\"M1627.7215,-103.9815C1620.9361,-94.9747 1613.7505,-85.4367 1606.9399,-76.3965\"/>\n<polygon fill=\"#000000\" stroke=\"#000000\" points=\"1609.6257,-74.1448 1600.813,-68.2637 1604.0347,-78.3568 1609.6257,-74.1448\"/>\n</g>\n<!-- 24 -->\n<g id=\"node25\" class=\"node\">\n<title>24</title>\n<path fill=\"#e78a48\" stroke=\"#000000\" d=\"M1827,-68C1827,-68 1687,-68 1687,-68 1681,-68 1675,-62 1675,-56 1675,-56 1675,-12 1675,-12 1675,-6 1681,0 1687,0 1687,0 1827,0 1827,0 1833,0 1839,-6 1839,-12 1839,-12 1839,-56 1839,-56 1839,-62 1833,-68 1827,-68\"/>\n<text text-anchor=\"start\" x=\"1706\" y=\"-52.8\" font-family=\"Helvetica,sans-Serif\" font-size=\"14.00\" fill=\"#000000\">entropy = 0.365</text>\n<text text-anchor=\"start\" x=\"1709\" y=\"-37.8\" font-family=\"Helvetica,sans-Serif\" font-size=\"14.00\" fill=\"#000000\">samples = 127</text>\n<text text-anchor=\"start\" x=\"1683\" y=\"-22.8\" font-family=\"Helvetica,sans-Serif\" font-size=\"14.00\" fill=\"#000000\">value = [75.813, 5.695]</text>\n<text text-anchor=\"start\" x=\"1721\" y=\"-7.8\" font-family=\"Helvetica,sans-Serif\" font-size=\"14.00\" fill=\"#000000\">class = NO</text>\n</g>\n<!-- 22&#45;&gt;24 -->\n<g id=\"edge24\" class=\"edge\">\n<title>22&#45;&gt;24</title>\n<path fill=\"none\" stroke=\"#000000\" d=\"M1695.4916,-103.9815C1703.5695,-94.7908 1712.1334,-85.0472 1720.2226,-75.8436\"/>\n<polygon fill=\"#000000\" stroke=\"#000000\" points=\"1722.912,-78.0855 1726.8848,-68.2637 1717.6542,-73.4642 1722.912,-78.0855\"/>\n</g>\n<!-- 26 -->\n<g id=\"node27\" class=\"node\">\n<title>26</title>\n<path fill=\"#fffdfc\" stroke=\"#000000\" d=\"M2034.5,-68C2034.5,-68 1869.5,-68 1869.5,-68 1863.5,-68 1857.5,-62 1857.5,-56 1857.5,-56 1857.5,-12 1857.5,-12 1857.5,-6 1863.5,0 1869.5,0 1869.5,0 2034.5,0 2034.5,0 2040.5,0 2046.5,-6 2046.5,-12 2046.5,-12 2046.5,-56 2046.5,-56 2046.5,-62 2040.5,-68 2034.5,-68\"/>\n<text text-anchor=\"start\" x=\"1909.5\" y=\"-52.8\" font-family=\"Helvetica,sans-Serif\" font-size=\"14.00\" fill=\"#000000\">entropy = 1.0</text>\n<text text-anchor=\"start\" x=\"1904\" y=\"-37.8\" font-family=\"Helvetica,sans-Serif\" font-size=\"14.00\" fill=\"#000000\">samples = 213</text>\n<text text-anchor=\"start\" x=\"1865.5\" y=\"-22.8\" font-family=\"Helvetica,sans-Serif\" font-size=\"14.00\" fill=\"#000000\">value = [106.744, 105.353]</text>\n<text text-anchor=\"start\" x=\"1916\" y=\"-7.8\" font-family=\"Helvetica,sans-Serif\" font-size=\"14.00\" fill=\"#000000\">class = NO</text>\n</g>\n<!-- 25&#45;&gt;26 -->\n<g id=\"edge26\" class=\"edge\">\n<title>25&#45;&gt;26</title>\n<path fill=\"none\" stroke=\"#000000\" d=\"M1952,-103.9815C1952,-95.618 1952,-86.7965 1952,-78.3409\"/>\n<polygon fill=\"#000000\" stroke=\"#000000\" points=\"1955.5001,-78.2636 1952,-68.2637 1948.5001,-78.2637 1955.5001,-78.2636\"/>\n</g>\n<!-- 27 -->\n<g id=\"node28\" class=\"node\">\n<title>27</title>\n<path fill=\"#e58139\" stroke=\"#000000\" d=\"M2201,-68C2201,-68 2077,-68 2077,-68 2071,-68 2065,-62 2065,-56 2065,-56 2065,-12 2065,-12 2065,-6 2071,0 2077,0 2077,0 2201,0 2201,0 2207,0 2213,-6 2213,-12 2213,-12 2213,-56 2213,-56 2213,-62 2207,-68 2201,-68\"/>\n<text text-anchor=\"start\" x=\"2094\" y=\"-52.8\" font-family=\"Helvetica,sans-Serif\" font-size=\"14.00\" fill=\"#000000\">entropy = &#45;0.0</text>\n<text text-anchor=\"start\" x=\"2095\" y=\"-37.8\" font-family=\"Helvetica,sans-Serif\" font-size=\"14.00\" fill=\"#000000\">samples = 28</text>\n<text text-anchor=\"start\" x=\"2073\" y=\"-22.8\" font-family=\"Helvetica,sans-Serif\" font-size=\"14.00\" fill=\"#000000\">value = [16.982, 0.0]</text>\n<text text-anchor=\"start\" x=\"2103\" y=\"-7.8\" font-family=\"Helvetica,sans-Serif\" font-size=\"14.00\" fill=\"#000000\">class = NO</text>\n</g>\n<!-- 25&#45;&gt;27 -->\n<g id=\"edge27\" class=\"edge\">\n<title>25&#45;&gt;27</title>\n<path fill=\"none\" stroke=\"#000000\" d=\"M2021.6319,-103.9815C2038.5215,-93.911 2056.5247,-83.1764 2073.2295,-73.2161\"/>\n<polygon fill=\"#000000\" stroke=\"#000000\" points=\"2075.0373,-76.2132 2081.834,-68.0856 2071.4524,-70.2008 2075.0373,-76.2132\"/>\n</g>\n</g>\n</svg>\n"
          },
          "metadata": {},
          "execution_count": 108
        }
      ]
    },
    {
      "cell_type": "code",
      "source": [
        "y_predict = dt_5.predict(x_test)"
      ],
      "metadata": {
        "id": "MbPSX03MTsMI"
      },
      "execution_count": null,
      "outputs": []
    },
    {
      "cell_type": "code",
      "source": [
        "from sklearn.metrics import confusion_matrix\n",
        "confusion_matrix(y_test, y_predict)  #confusion matrix 표시\n"
      ],
      "metadata": {
        "colab": {
          "base_uri": "https://localhost:8080/"
        },
        "id": "9klV3khoRx_u",
        "outputId": "b79f232a-557b-4e12-f579-915c24ef9796"
      },
      "execution_count": null,
      "outputs": [
        {
          "output_type": "execute_result",
          "data": {
            "text/plain": [
              "array([[184,  40],\n",
              "       [ 19,  28]])"
            ]
          },
          "metadata": {},
          "execution_count": 60
        }
      ]
    },
    {
      "cell_type": "code",
      "source": [
        "from sklearn.metrics import classification_report\n",
        "print(classification_report(y_test, y_predict, target_names = [\"F\", \"T\"]))"
      ],
      "metadata": {
        "colab": {
          "base_uri": "https://localhost:8080/"
        },
        "id": "1QClgERiVZ4m",
        "outputId": "c93f5cae-c835-4166-c81a-43aaeb0fcf99"
      },
      "execution_count": null,
      "outputs": [
        {
          "output_type": "stream",
          "name": "stdout",
          "text": [
            "              precision    recall  f1-score   support\n",
            "\n",
            "           F       0.91      0.82      0.86       224\n",
            "           T       0.41      0.60      0.49        47\n",
            "\n",
            "    accuracy                           0.78       271\n",
            "   macro avg       0.66      0.71      0.67       271\n",
            "weighted avg       0.82      0.78      0.80       271\n",
            "\n"
          ]
        }
      ]
    },
    {
      "cell_type": "code",
      "source": [
        "#랜덤 포레스트\n",
        "from sklearn.ensemble import RandomForestClassifier\n",
        "\n",
        "rf=RandomForestClassifier(class_weight='balanced', criterion = \"entropy\")\n",
        "rf.fit(x_train,y_train)\n",
        "rf.score(x_test,y_test) #0.8163265306122449\n",
        "\n",
        "#rf_cv=cross_val_score(rf,x_test,y_test,cv=10,scoring='accuracy')\n",
        "#rf_cv"
      ],
      "metadata": {
        "colab": {
          "base_uri": "https://localhost:8080/"
        },
        "id": "9sK8hoRv7Aak",
        "outputId": "e6be60e2-1eec-4a43-bee1-ee25f67df472"
      },
      "execution_count": null,
      "outputs": [
        {
          "output_type": "execute_result",
          "data": {
            "text/plain": [
              "0.8492647058823529"
            ]
          },
          "metadata": {},
          "execution_count": 98
        }
      ]
    }
  ]
}